{
 "cells": [
  {
   "cell_type": "code",
   "execution_count": 1,
   "metadata": {
    "ExecuteTime": {
     "end_time": "2020-01-02T02:03:16.227457Z",
     "start_time": "2020-01-02T02:03:15.055791Z"
    }
   },
   "outputs": [],
   "source": [
    "import numpy as np\n",
    "import pandas as pd"
   ]
  },
  {
   "cell_type": "code",
   "execution_count": 2,
   "metadata": {
    "ExecuteTime": {
     "end_time": "2020-01-02T02:03:16.246184Z",
     "start_time": "2020-01-02T02:03:16.229839Z"
    }
   },
   "outputs": [],
   "source": [
    "import json\n",
    "import re\n",
    "from tqdm import tqdm_notebook as tqdm"
   ]
  },
  {
   "cell_type": "code",
   "execution_count": 3,
   "metadata": {
    "ExecuteTime": {
     "end_time": "2020-01-02T02:03:16.265782Z",
     "start_time": "2020-01-02T02:03:16.261867Z"
    }
   },
   "outputs": [],
   "source": [
    "import sys\n",
    "sys.path.insert(1, '../tools/')\n",
    "import os"
   ]
  },
  {
   "cell_type": "code",
   "execution_count": 4,
   "metadata": {
    "ExecuteTime": {
     "end_time": "2020-01-02T02:03:18.476058Z",
     "start_time": "2020-01-02T02:03:18.183217Z"
    }
   },
   "outputs": [],
   "source": [
    "from yelp_fusion import *"
   ]
  },
  {
   "cell_type": "code",
   "execution_count": 5,
   "metadata": {
    "ExecuteTime": {
     "end_time": "2020-01-02T02:03:20.412591Z",
     "start_time": "2020-01-02T02:03:20.407078Z"
    }
   },
   "outputs": [],
   "source": [
    "file_names = os.listdir('../data/raw_businesses_data/')"
   ]
  },
  {
   "cell_type": "code",
   "execution_count": 6,
   "metadata": {
    "ExecuteTime": {
     "end_time": "2020-01-02T02:03:20.557845Z",
     "start_time": "2020-01-02T02:03:20.553374Z"
    }
   },
   "outputs": [],
   "source": [
    "def is_json_file(in_str):\n",
    "    businesses_info = re.findall(r'businesses_info.json$', in_str)\n",
    "    reviews = re.findall(r'reviews.json$', in_str)\n",
    "    if businesses_info:\n",
    "        return 'businesses_info'\n",
    "    elif reviews:\n",
    "        return 'reviews'"
   ]
  },
  {
   "cell_type": "code",
   "execution_count": 7,
   "metadata": {
    "ExecuteTime": {
     "end_time": "2020-01-02T02:03:21.405580Z",
     "start_time": "2020-01-02T02:03:21.399988Z"
    }
   },
   "outputs": [],
   "source": [
    "file_businesses_info = [i for i in file_names if is_json_file(i) == 'businesses_info']\n",
    "file_reviews = [i for i in file_names if is_json_file(i) == 'reviews']"
   ]
  },
  {
   "cell_type": "markdown",
   "metadata": {},
   "source": [
    "# All Businesses"
   ]
  },
  {
   "cell_type": "code",
   "execution_count": 8,
   "metadata": {
    "ExecuteTime": {
     "end_time": "2020-01-02T02:03:22.676136Z",
     "start_time": "2020-01-02T02:03:22.671788Z"
    }
   },
   "outputs": [],
   "source": [
    "def load_json_to_df_businesses(file_name):\n",
    "    with open('../data/raw_businesses_data/{}'.format(file_name), 'r') as file:\n",
    "        data = json.load(file)\n",
    "\n",
    "    return pd.DataFrame(data['businesses'])"
   ]
  },
  {
   "cell_type": "code",
   "execution_count": 9,
   "metadata": {
    "ExecuteTime": {
     "end_time": "2020-01-02T02:03:24.543775Z",
     "start_time": "2020-01-02T02:03:23.685372Z"
    }
   },
   "outputs": [
    {
     "data": {
      "application/vnd.jupyter.widget-view+json": {
       "model_id": "e87e0f1de6af4ead93602765bdbe76dc",
       "version_major": 2,
       "version_minor": 0
      },
      "text/plain": [
       "HBox(children=(IntProgress(value=0), HTML(value='')))"
      ]
     },
     "metadata": {},
     "output_type": "display_data"
    },
    {
     "name": "stdout",
     "output_type": "stream",
     "text": [
      "\n"
     ]
    }
   ],
   "source": [
    "all_businesses_info = [load_json_to_df_businesses(i) for i in tqdm(file_businesses_info)]"
   ]
  },
  {
   "cell_type": "code",
   "execution_count": 183,
   "metadata": {
    "ExecuteTime": {
     "end_time": "2020-01-02T04:16:35.646759Z",
     "start_time": "2020-01-02T04:16:35.481647Z"
    }
   },
   "outputs": [],
   "source": [
    "all_businesses_df = pd.concat(all_businesses_info, sort=False).reset_index(drop=True)"
   ]
  },
  {
   "cell_type": "code",
   "execution_count": 184,
   "metadata": {
    "ExecuteTime": {
     "end_time": "2020-01-02T04:16:35.881016Z",
     "start_time": "2020-01-02T04:16:35.876761Z"
    }
   },
   "outputs": [],
   "source": [
    "def balance_list(in_list, n):\n",
    "    \"\"\" balance a list to length n\n",
    "    \n",
    "    Parameters: in_list (tuple/list/array like) - input list\n",
    "                n (int) - the length to balance\n",
    "                \n",
    "    Returns: (list) - the balanced list\n",
    "    \"\"\"\n",
    "    my_list = list(in_list)\n",
    "    list_len = len(my_list)\n",
    "    if list_len <= n:\n",
    "        append_n = n - list_len\n",
    "        return in_list + [None]*append_n\n",
    "    else:\n",
    "        return my_list"
   ]
  },
  {
   "cell_type": "code",
   "execution_count": 185,
   "metadata": {
    "ExecuteTime": {
     "end_time": "2020-01-02T04:16:36.047487Z",
     "start_time": "2020-01-02T04:16:36.042222Z"
    }
   },
   "outputs": [],
   "source": [
    "def multi_len_list_to_df(in_arr, col_name):\n",
    "    \"\"\" balance muti length list of list to a DataFrame\n",
    "    \n",
    "    Parameters: in_arr (list/array like) - a list of list with different length\n",
    "                col_name (str) - the name of the column, will name it as col_name_n\n",
    "                                 for n is the longest length list\n",
    "                                 \n",
    "    Returns: df (DataFrame) - a balanced dataframe\n",
    "    \"\"\"\n",
    "    unique = np.unique(in_arr)\n",
    "    max_len = max([len(i) for i in unique])\n",
    "    col = ['{}{}'.format(col_name, i) for i in range(1, max_len+1)]\n",
    "    df = pd.DataFrame([balance_list(i, max_len) for i in in_arr], columns=col)\n",
    "    \n",
    "    return df"
   ]
  },
  {
   "cell_type": "markdown",
   "metadata": {},
   "source": [
    "## Transactions"
   ]
  },
  {
   "cell_type": "code",
   "execution_count": 186,
   "metadata": {
    "ExecuteTime": {
     "end_time": "2020-01-02T04:16:36.997058Z",
     "start_time": "2020-01-02T04:16:36.943508Z"
    }
   },
   "outputs": [],
   "source": [
    "transactions = multi_len_list_to_df(all_businesses_df['transactions'], 'transactions')"
   ]
  },
  {
   "cell_type": "markdown",
   "metadata": {
    "ExecuteTime": {
     "end_time": "2020-01-02T03:13:08.718138Z",
     "start_time": "2020-01-02T03:13:08.689160Z"
    }
   },
   "source": [
    "## Coordinates"
   ]
  },
  {
   "cell_type": "code",
   "execution_count": 187,
   "metadata": {
    "ExecuteTime": {
     "end_time": "2020-01-02T04:16:37.248259Z",
     "start_time": "2020-01-02T04:16:37.245284Z"
    }
   },
   "outputs": [],
   "source": [
    "raw_coordinates = all_businesses_df['coordinates'].values"
   ]
  },
  {
   "cell_type": "code",
   "execution_count": 188,
   "metadata": {
    "ExecuteTime": {
     "end_time": "2020-01-02T04:16:37.408649Z",
     "start_time": "2020-01-02T04:16:37.392476Z"
    }
   },
   "outputs": [],
   "source": [
    "col_cor = ['latitude','longitude']\n",
    "coordinates = pd.DataFrame([(i['latitude'], i['longitude']) for i in all_businesses_df['coordinates'].values], columns=col_cor)"
   ]
  },
  {
   "cell_type": "markdown",
   "metadata": {
    "ExecuteTime": {
     "end_time": "2020-01-02T03:26:28.214174Z",
     "start_time": "2020-01-02T03:26:28.204086Z"
    }
   },
   "source": [
    "## Categories"
   ]
  },
  {
   "cell_type": "code",
   "execution_count": 189,
   "metadata": {
    "ExecuteTime": {
     "end_time": "2020-01-02T04:16:37.731971Z",
     "start_time": "2020-01-02T04:16:37.728998Z"
    }
   },
   "outputs": [],
   "source": [
    "raw_categories = all_businesses_df['categories']"
   ]
  },
  {
   "cell_type": "code",
   "execution_count": 190,
   "metadata": {
    "ExecuteTime": {
     "end_time": "2020-01-02T04:16:37.937331Z",
     "start_time": "2020-01-02T04:16:37.933795Z"
    }
   },
   "outputs": [],
   "source": [
    "in_list = raw_categories[10]"
   ]
  },
  {
   "cell_type": "code",
   "execution_count": 191,
   "metadata": {
    "ExecuteTime": {
     "end_time": "2020-01-02T04:16:38.135595Z",
     "start_time": "2020-01-02T04:16:38.089110Z"
    }
   },
   "outputs": [],
   "source": [
    "alias = [[i['alias'] for i in in_list] for in_list in raw_categories]\n",
    "title = [[i['title'] for i in in_list] for in_list in raw_categories]"
   ]
  },
  {
   "cell_type": "code",
   "execution_count": 192,
   "metadata": {
    "ExecuteTime": {
     "end_time": "2020-01-02T04:16:38.850031Z",
     "start_time": "2020-01-02T04:16:38.225053Z"
    }
   },
   "outputs": [],
   "source": [
    "alias_df = multi_len_list_to_df(alias, 'alias')\n",
    "title_df = multi_len_list_to_df(title, 'title')"
   ]
  },
  {
   "cell_type": "code",
   "execution_count": 193,
   "metadata": {
    "ExecuteTime": {
     "end_time": "2020-01-02T04:16:38.860301Z",
     "start_time": "2020-01-02T04:16:38.852449Z"
    }
   },
   "outputs": [],
   "source": [
    "categories = pd.concat([alias_df, title_df], axis=1)"
   ]
  },
  {
   "cell_type": "markdown",
   "metadata": {
    "ExecuteTime": {
     "end_time": "2020-01-02T03:55:25.718348Z",
     "start_time": "2020-01-02T03:55:25.705131Z"
    }
   },
   "source": [
    "## Location"
   ]
  },
  {
   "cell_type": "code",
   "execution_count": 194,
   "metadata": {
    "ExecuteTime": {
     "end_time": "2020-01-02T04:16:39.150025Z",
     "start_time": "2020-01-02T04:16:39.146902Z"
    }
   },
   "outputs": [],
   "source": [
    "raw_location = all_businesses_df['location']"
   ]
  },
  {
   "cell_type": "code",
   "execution_count": 195,
   "metadata": {
    "ExecuteTime": {
     "end_time": "2020-01-02T04:16:39.331122Z",
     "start_time": "2020-01-02T04:16:39.318084Z"
    }
   },
   "outputs": [],
   "source": [
    "display_address = [', '.join(i['display_address']) for i in raw_location]"
   ]
  },
  {
   "cell_type": "code",
   "execution_count": 196,
   "metadata": {
    "ExecuteTime": {
     "end_time": "2020-01-02T04:16:39.560116Z",
     "start_time": "2020-01-02T04:16:39.484529Z"
    }
   },
   "outputs": [],
   "source": [
    "col_location = ['address1','address2','address3','city','zip_code','country','state']\n",
    "location = pd.DataFrame({i:[in_dict[i] for in_dict in raw_location] for i in col_location})\n",
    "location['display_address'] = display_address"
   ]
  },
  {
   "cell_type": "code",
   "execution_count": 197,
   "metadata": {
    "ExecuteTime": {
     "end_time": "2020-01-02T04:16:39.720652Z",
     "start_time": "2020-01-02T04:16:39.653073Z"
    }
   },
   "outputs": [],
   "source": [
    "fix_empty_str = lambda in_str: None if in_str == '' else in_str\n",
    "for i in list(location):\n",
    "    location[i] = [fix_empty_str(i) for i in location[i]]"
   ]
  },
  {
   "cell_type": "markdown",
   "metadata": {
    "ExecuteTime": {
     "end_time": "2020-01-02T04:15:16.182720Z",
     "start_time": "2020-01-02T04:15:16.179565Z"
    }
   },
   "source": [
    "## Combine"
   ]
  },
  {
   "cell_type": "code",
   "execution_count": 198,
   "metadata": {
    "ExecuteTime": {
     "end_time": "2020-01-02T04:16:40.581587Z",
     "start_time": "2020-01-02T04:16:40.577132Z"
    }
   },
   "outputs": [],
   "source": [
    "problem_col = ['categories','coordinates','transactions','location']"
   ]
  },
  {
   "cell_type": "code",
   "execution_count": 200,
   "metadata": {
    "ExecuteTime": {
     "end_time": "2020-01-02T04:17:27.097348Z",
     "start_time": "2020-01-02T04:17:27.029460Z"
    }
   },
   "outputs": [],
   "source": [
    "combine_df_name = [all_businesses_df, coordinates, categories, transactions, location]\n",
    "all_businesses_df = pd.concat(combine_df_name, axis=1).drop(columns=problem_col)"
   ]
  },
  {
   "cell_type": "code",
   "execution_count": 206,
   "metadata": {
    "ExecuteTime": {
     "end_time": "2020-01-02T04:18:19.648437Z",
     "start_time": "2020-01-02T04:18:19.398616Z"
    }
   },
   "outputs": [],
   "source": [
    "for i in list(all_businesses_df):\n",
    "    all_businesses_df[i] = [fix_empty_str(i) for i in all_businesses_df[i]]"
   ]
  },
  {
   "cell_type": "code",
   "execution_count": 208,
   "metadata": {
    "ExecuteTime": {
     "end_time": "2020-01-02T04:19:00.942248Z",
     "start_time": "2020-01-02T04:19:00.392864Z"
    }
   },
   "outputs": [],
   "source": [
    "# all_businesses_df.to_csv('../data/all_businesses_info.csv', index=False)"
   ]
  },
  {
   "cell_type": "markdown",
   "metadata": {
    "ExecuteTime": {
     "end_time": "2020-01-01T12:10:29.969790Z",
     "start_time": "2020-01-01T12:10:29.966969Z"
    }
   },
   "source": [
    "# All Reviews"
   ]
  },
  {
   "cell_type": "code",
   "execution_count": 211,
   "metadata": {
    "ExecuteTime": {
     "end_time": "2020-01-02T04:19:37.545950Z",
     "start_time": "2020-01-02T04:19:37.541680Z"
    }
   },
   "outputs": [],
   "source": [
    "def load_json_to_df_reviews(file_name):\n",
    "    with open('../data/raw_businesses_data/{}'.format(file_name), 'r') as file:\n",
    "        data = json.load(file)\n",
    "\n",
    "    return dict_to_df(data['reviews'])"
   ]
  },
  {
   "cell_type": "code",
   "execution_count": 212,
   "metadata": {
    "ExecuteTime": {
     "end_time": "2020-01-02T04:20:41.125899Z",
     "start_time": "2020-01-02T04:19:38.099266Z"
    }
   },
   "outputs": [
    {
     "data": {
      "application/vnd.jupyter.widget-view+json": {
       "model_id": "46696fd4489c4508822fbd9373d3264f",
       "version_major": 2,
       "version_minor": 0
      },
      "text/plain": [
       "HBox(children=(IntProgress(value=0), HTML(value='')))"
      ]
     },
     "metadata": {},
     "output_type": "display_data"
    },
    {
     "name": "stdout",
     "output_type": "stream",
     "text": [
      "\n"
     ]
    }
   ],
   "source": [
    "all_reviews = [load_json_to_df_reviews(i) for i in tqdm(file_reviews)]"
   ]
  },
  {
   "cell_type": "code",
   "execution_count": 213,
   "metadata": {
    "ExecuteTime": {
     "end_time": "2020-01-02T04:20:43.065070Z",
     "start_time": "2020-01-02T04:20:42.958475Z"
    }
   },
   "outputs": [],
   "source": [
    "all_reviews_df = pd.concat(all_reviews, sort=False).reset_index(drop=True)"
   ]
  },
  {
   "cell_type": "code",
   "execution_count": 214,
   "metadata": {
    "ExecuteTime": {
     "end_time": "2020-01-02T04:20:43.234722Z",
     "start_time": "2020-01-02T04:20:43.128536Z"
    }
   },
   "outputs": [],
   "source": [
    "rename_col = {'id':'user_id', 'profile_url':'user_profile_url', 'image_url':'user_image_url', 'name':'user_name'}\n",
    "users_df = pd.DataFrame(all_reviews_df.user.values.tolist()).rename(columns=rename_col)"
   ]
  },
  {
   "cell_type": "code",
   "execution_count": 215,
   "metadata": {
    "ExecuteTime": {
     "end_time": "2020-01-02T04:20:43.716106Z",
     "start_time": "2020-01-02T04:20:43.644577Z"
    }
   },
   "outputs": [],
   "source": [
    "all_reviews_df = pd.concat([all_reviews_df, users_df], axis=1).drop(columns='user')"
   ]
  },
  {
   "cell_type": "code",
   "execution_count": 217,
   "metadata": {
    "ExecuteTime": {
     "end_time": "2020-01-02T04:20:55.203288Z",
     "start_time": "2020-01-02T04:20:55.200712Z"
    }
   },
   "outputs": [],
   "source": [
    "# all_reviews_df.to_csv('../data/all_reviews.csv', index=False)"
   ]
  }
 ],
 "metadata": {
  "kernelspec": {
   "display_name": "Python 3",
   "language": "python",
   "name": "python3"
  },
  "language_info": {
   "codemirror_mode": {
    "name": "ipython",
    "version": 3
   },
   "file_extension": ".py",
   "mimetype": "text/x-python",
   "name": "python",
   "nbconvert_exporter": "python",
   "pygments_lexer": "ipython3",
   "version": "3.7.2"
  },
  "toc": {
   "base_numbering": 1,
   "nav_menu": {},
   "number_sections": true,
   "sideBar": true,
   "skip_h1_title": false,
   "title_cell": "Table of Contents",
   "title_sidebar": "Contents",
   "toc_cell": false,
   "toc_position": {},
   "toc_section_display": true,
   "toc_window_display": false
  }
 },
 "nbformat": 4,
 "nbformat_minor": 2
}
