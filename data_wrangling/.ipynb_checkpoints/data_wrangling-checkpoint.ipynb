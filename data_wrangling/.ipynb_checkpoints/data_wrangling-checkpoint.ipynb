{
 "cells": [
  {
   "cell_type": "code",
   "execution_count": 1,
   "metadata": {
    "ExecuteTime": {
     "end_time": "2020-01-01T13:34:15.764439Z",
     "start_time": "2020-01-01T13:34:14.964211Z"
    }
   },
   "outputs": [],
   "source": [
    "import numpy as np\n",
    "import pandas as pd"
   ]
  },
  {
   "cell_type": "code",
   "execution_count": 3,
   "metadata": {
    "ExecuteTime": {
     "end_time": "2020-01-01T13:34:50.866993Z",
     "start_time": "2020-01-01T13:34:50.864202Z"
    }
   },
   "outputs": [],
   "source": [
    "import json\n",
    "import re\n",
    "from tqdm import tqdm_notebook as tqdm"
   ]
  },
  {
   "cell_type": "code",
   "execution_count": 5,
   "metadata": {
    "ExecuteTime": {
     "end_time": "2020-01-01T13:34:59.396164Z",
     "start_time": "2020-01-01T13:34:59.392785Z"
    }
   },
   "outputs": [],
   "source": [
    "import sys\n",
    "sys.path.insert(1, '../tools/')\n",
    "import os"
   ]
  },
  {
   "cell_type": "code",
   "execution_count": 6,
   "metadata": {
    "ExecuteTime": {
     "end_time": "2020-01-01T13:35:00.173444Z",
     "start_time": "2020-01-01T13:34:59.888571Z"
    }
   },
   "outputs": [],
   "source": [
    "from yelp_fusion import *"
   ]
  },
  {
   "cell_type": "code",
   "execution_count": 7,
   "metadata": {
    "ExecuteTime": {
     "end_time": "2020-01-01T13:35:01.262345Z",
     "start_time": "2020-01-01T13:35:01.258895Z"
    }
   },
   "outputs": [],
   "source": [
    "file_names = os.listdir('../data/raw_businesses_data/')"
   ]
  },
  {
   "cell_type": "code",
   "execution_count": 8,
   "metadata": {
    "ExecuteTime": {
     "end_time": "2020-01-01T13:35:01.834605Z",
     "start_time": "2020-01-01T13:35:01.830367Z"
    }
   },
   "outputs": [],
   "source": [
    "def is_json_file(in_str):\n",
    "    businesses_info = re.findall(r'businesses_info.json$', in_str)\n",
    "    reviews = re.findall(r'reviews.json$', in_str)\n",
    "    if businesses_info:\n",
    "        return 'businesses_info'\n",
    "    elif reviews:\n",
    "        return 'reviews'"
   ]
  },
  {
   "cell_type": "code",
   "execution_count": 9,
   "metadata": {
    "ExecuteTime": {
     "end_time": "2020-01-01T13:35:02.344407Z",
     "start_time": "2020-01-01T13:35:02.339383Z"
    }
   },
   "outputs": [],
   "source": [
    "file_businesses_info = [i for i in file_names if is_json_file(i) == 'businesses_info']\n",
    "file_reviews = [i for i in file_names if is_json_file(i) == 'reviews']"
   ]
  },
  {
   "cell_type": "markdown",
   "metadata": {},
   "source": [
    "# All Businesses"
   ]
  },
  {
   "cell_type": "code",
   "execution_count": 10,
   "metadata": {
    "ExecuteTime": {
     "end_time": "2020-01-01T13:35:04.109899Z",
     "start_time": "2020-01-01T13:35:04.105740Z"
    }
   },
   "outputs": [],
   "source": [
    "def load_json_to_df_businesses(file_name):\n",
    "    with open('../data/raw_businesses_data/{}'.format(file_name), 'r') as file:\n",
    "        data = json.load(file)\n",
    "\n",
    "    return pd.DataFrame(data['businesses'])"
   ]
  },
  {
   "cell_type": "code",
   "execution_count": 11,
   "metadata": {
    "ExecuteTime": {
     "end_time": "2020-01-01T13:35:05.380749Z",
     "start_time": "2020-01-01T13:35:04.698033Z"
    }
   },
   "outputs": [
    {
     "data": {
      "application/vnd.jupyter.widget-view+json": {
       "model_id": "383c377161f54dbba4d5afb20ff01019",
       "version_major": 2,
       "version_minor": 0
      },
      "text/plain": [
       "HBox(children=(IntProgress(value=0), HTML(value='')))"
      ]
     },
     "metadata": {},
     "output_type": "display_data"
    },
    {
     "name": "stdout",
     "output_type": "stream",
     "text": [
      "\n"
     ]
    }
   ],
   "source": [
    "all_businesses_info = [load_json_to_df_businesses(i) for i in tqdm(file_businesses_info)]"
   ]
  },
  {
   "cell_type": "code",
   "execution_count": 12,
   "metadata": {
    "ExecuteTime": {
     "end_time": "2020-01-01T13:35:06.201883Z",
     "start_time": "2020-01-01T13:35:06.039052Z"
    }
   },
   "outputs": [],
   "source": [
    "all_businesses_df = pd.concat(all_businesses_info, sort=False).reset_index(drop=True)"
   ]
  },
  {
   "cell_type": "markdown",
   "metadata": {
    "ExecuteTime": {
     "end_time": "2020-01-01T12:10:29.969790Z",
     "start_time": "2020-01-01T12:10:29.966969Z"
    }
   },
   "source": [
    "# All Reviews"
   ]
  },
  {
   "cell_type": "code",
   "execution_count": 16,
   "metadata": {
    "ExecuteTime": {
     "end_time": "2020-01-01T13:36:31.262916Z",
     "start_time": "2020-01-01T13:36:31.259204Z"
    }
   },
   "outputs": [],
   "source": [
    "def load_json_to_df_reviews(file_name):\n",
    "    with open('../data/{}'.format(file_name), 'r') as file:\n",
    "        data = json.load(file)\n",
    "\n",
    "    return dict_to_df(data['reviews'])"
   ]
  },
  {
   "cell_type": "code",
   "execution_count": 17,
   "metadata": {
    "ExecuteTime": {
     "end_time": "2020-01-01T13:38:08.647656Z",
     "start_time": "2020-01-01T13:37:11.194641Z"
    }
   },
   "outputs": [
    {
     "data": {
      "application/vnd.jupyter.widget-view+json": {
       "model_id": "1d99d70d9c5546e49425e2b7d37fd0c9",
       "version_major": 2,
       "version_minor": 0
      },
      "text/plain": [
       "HBox(children=(IntProgress(value=0), HTML(value='')))"
      ]
     },
     "metadata": {},
     "output_type": "display_data"
    },
    {
     "name": "stdout",
     "output_type": "stream",
     "text": [
      "\n"
     ]
    }
   ],
   "source": [
    "all_reviews = [load_json_to_df_reviews(i) for i in tqdm(file_reviews)]"
   ]
  },
  {
   "cell_type": "code",
   "execution_count": 46,
   "metadata": {
    "ExecuteTime": {
     "end_time": "2020-01-01T13:54:03.409622Z",
     "start_time": "2020-01-01T13:54:03.301934Z"
    }
   },
   "outputs": [],
   "source": [
    "all_reviews_df = pd.concat(all_reviews, sort=False).reset_index(drop=True)"
   ]
  },
  {
   "cell_type": "code",
   "execution_count": 47,
   "metadata": {
    "ExecuteTime": {
     "end_time": "2020-01-01T13:54:26.250471Z",
     "start_time": "2020-01-01T13:54:24.978409Z"
    }
   },
   "outputs": [],
   "source": [
    "all_reviews_df.to_csv('../data/all_reviews_df.csv', index=False)"
   ]
  },
  {
   "cell_type": "code",
   "execution_count": 51,
   "metadata": {
    "ExecuteTime": {
     "end_time": "2020-01-01T13:55:58.047769Z",
     "start_time": "2020-01-01T13:55:58.040075Z"
    }
   },
   "outputs": [
    {
     "data": {
      "text/plain": [
       "{'id': 'Xri-uAd7HUGkO-uubNRR6Q',\n",
       " 'profile_url': 'https://www.yelp.com/user_details?userid=Xri-uAd7HUGkO-uubNRR6Q',\n",
       " 'image_url': 'https://s3-media3.fl.yelpcdn.com/photo/zfHhC21dwTcidSvMo2KDpw/o.jpg',\n",
       " 'name': 'Kolby V.'}"
      ]
     },
     "execution_count": 51,
     "metadata": {},
     "output_type": "execute_result"
    }
   ],
   "source": [
    "all_reviews_df.user[0]"
   ]
  },
  {
   "cell_type": "code",
   "execution_count": null,
   "metadata": {
    "ExecuteTime": {
     "end_time": "2020-01-01T13:56:19.843390Z",
     "start_time": "2020-01-01T13:56:19.831758Z"
    }
   },
   "outputs": [],
   "source": []
  },
  {
   "cell_type": "code",
   "execution_count": null,
   "metadata": {},
   "outputs": [],
   "source": []
  }
 ],
 "metadata": {
  "kernelspec": {
   "display_name": "Python 3",
   "language": "python",
   "name": "python3"
  },
  "language_info": {
   "codemirror_mode": {
    "name": "ipython",
    "version": 3
   },
   "file_extension": ".py",
   "mimetype": "text/x-python",
   "name": "python",
   "nbconvert_exporter": "python",
   "pygments_lexer": "ipython3",
   "version": "3.7.2"
  },
  "toc": {
   "base_numbering": 1,
   "nav_menu": {},
   "number_sections": true,
   "sideBar": true,
   "skip_h1_title": false,
   "title_cell": "Table of Contents",
   "title_sidebar": "Contents",
   "toc_cell": false,
   "toc_position": {},
   "toc_section_display": true,
   "toc_window_display": false
  }
 },
 "nbformat": 4,
 "nbformat_minor": 2
}
