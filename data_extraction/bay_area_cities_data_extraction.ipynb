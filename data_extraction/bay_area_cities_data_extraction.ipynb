{
 "cells": [
  {
   "cell_type": "code",
   "execution_count": 1,
   "metadata": {
    "ExecuteTime": {
     "end_time": "2020-01-01T05:06:59.902398Z",
     "start_time": "2020-01-01T05:06:59.737397Z"
    }
   },
   "outputs": [],
   "source": [
    "import requests"
   ]
  },
  {
   "cell_type": "code",
   "execution_count": 2,
   "metadata": {
    "ExecuteTime": {
     "end_time": "2020-01-01T05:06:59.985457Z",
     "start_time": "2020-01-01T05:06:59.916625Z"
    }
   },
   "outputs": [],
   "source": [
    "from bs4 import BeautifulSoup"
   ]
  },
  {
   "cell_type": "code",
   "execution_count": 4,
   "metadata": {
    "ExecuteTime": {
     "end_time": "2020-01-01T05:07:00.770420Z",
     "start_time": "2020-01-01T05:07:00.241400Z"
    }
   },
   "outputs": [],
   "source": [
    "import numpy as np\n",
    "import pandas as pd"
   ]
  },
  {
   "cell_type": "markdown",
   "metadata": {},
   "source": [
    "# Bay Area Cities Information (Web Scraping)"
   ]
  },
  {
   "cell_type": "code",
   "execution_count": 11,
   "metadata": {
    "ExecuteTime": {
     "end_time": "2020-01-01T02:30:16.149192Z",
     "start_time": "2020-01-01T02:30:16.146555Z"
    }
   },
   "outputs": [],
   "source": [
    "url = 'https://en.wikipedia.org/wiki/List_of_cities_and_towns_in_the_San_Francisco_Bay_Area'"
   ]
  },
  {
   "cell_type": "code",
   "execution_count": 12,
   "metadata": {
    "ExecuteTime": {
     "end_time": "2020-01-01T02:30:16.686925Z",
     "start_time": "2020-01-01T02:30:16.560803Z"
    }
   },
   "outputs": [],
   "source": [
    "source = requests.get(url)"
   ]
  },
  {
   "cell_type": "code",
   "execution_count": 13,
   "metadata": {
    "ExecuteTime": {
     "end_time": "2020-01-01T02:30:17.188892Z",
     "start_time": "2020-01-01T02:30:16.987971Z"
    }
   },
   "outputs": [],
   "source": [
    "soup = BeautifulSoup(source.content, 'html.parser')"
   ]
  },
  {
   "cell_type": "code",
   "execution_count": 14,
   "metadata": {
    "ExecuteTime": {
     "end_time": "2020-01-01T02:30:17.542592Z",
     "start_time": "2020-01-01T02:30:17.516097Z"
    }
   },
   "outputs": [],
   "source": [
    "all_rows = soup.find_all('table', class_='wikitable')[1].find_all('tr')"
   ]
  },
  {
   "cell_type": "code",
   "execution_count": 15,
   "metadata": {
    "ExecuteTime": {
     "end_time": "2020-01-01T02:30:18.068712Z",
     "start_time": "2020-01-01T02:30:18.047656Z"
    }
   },
   "outputs": [],
   "source": [
    "all_rows_info = [[i.text.rstrip() for i in j.find_all(['th','td'])] for j in all_rows]"
   ]
  },
  {
   "cell_type": "code",
   "execution_count": 16,
   "metadata": {
    "ExecuteTime": {
     "end_time": "2020-01-01T02:30:18.400756Z",
     "start_time": "2020-01-01T02:30:18.395305Z"
    }
   },
   "outputs": [],
   "source": [
    "bay_dem_df = pd.DataFrame(all_rows_info[2:], columns=['Name','Type','County','Population','sq_mi','km2','Incorporated'])"
   ]
  },
  {
   "cell_type": "code",
   "execution_count": 17,
   "metadata": {
    "ExecuteTime": {
     "end_time": "2020-01-01T02:30:18.975362Z",
     "start_time": "2020-01-01T02:30:18.968967Z"
    }
   },
   "outputs": [],
   "source": [
    "bay_dem_df.to_csv('./data/bay_area_demography.csv', index=False)"
   ]
  }
 ],
 "metadata": {
  "kernelspec": {
   "display_name": "Python 3",
   "language": "python",
   "name": "python3"
  },
  "language_info": {
   "codemirror_mode": {
    "name": "ipython",
    "version": 3
   },
   "file_extension": ".py",
   "mimetype": "text/x-python",
   "name": "python",
   "nbconvert_exporter": "python",
   "pygments_lexer": "ipython3",
   "version": "3.7.2"
  },
  "toc": {
   "base_numbering": 1,
   "nav_menu": {},
   "number_sections": true,
   "sideBar": true,
   "skip_h1_title": false,
   "title_cell": "Table of Contents",
   "title_sidebar": "Contents",
   "toc_cell": false,
   "toc_position": {},
   "toc_section_display": true,
   "toc_window_display": false
  }
 },
 "nbformat": 4,
 "nbformat_minor": 2
}
