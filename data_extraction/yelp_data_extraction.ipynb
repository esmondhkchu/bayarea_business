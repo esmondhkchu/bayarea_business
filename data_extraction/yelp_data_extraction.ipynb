{
 "cells": [
  {
   "cell_type": "code",
   "execution_count": 1,
   "metadata": {
    "ExecuteTime": {
     "end_time": "2020-01-01T09:39:21.909415Z",
     "start_time": "2020-01-01T09:39:21.526591Z"
    }
   },
   "outputs": [],
   "source": [
    "import sys\n",
    "sys.path.insert(1, '../tools')\n",
    "from yelp_fusion import *"
   ]
  },
  {
   "cell_type": "code",
   "execution_count": 2,
   "metadata": {
    "ExecuteTime": {
     "end_time": "2020-01-01T09:39:21.980882Z",
     "start_time": "2020-01-01T09:39:21.973515Z"
    }
   },
   "outputs": [],
   "source": [
    "import numpy as np\n",
    "import pandas as pd"
   ]
  },
  {
   "cell_type": "code",
   "execution_count": 3,
   "metadata": {
    "ExecuteTime": {
     "end_time": "2020-01-01T09:39:22.568552Z",
     "start_time": "2020-01-01T09:39:22.549527Z"
    }
   },
   "outputs": [],
   "source": [
    "bay_area_demo = pd.read_csv('../data/bay_area_demography.csv')"
   ]
  },
  {
   "cell_type": "code",
   "execution_count": 4,
   "metadata": {
    "ExecuteTime": {
     "end_time": "2020-01-01T09:39:22.957490Z",
     "start_time": "2020-01-01T09:39:22.949018Z"
    }
   },
   "outputs": [],
   "source": [
    "name_km2 = bay_area_demo[['Name','km2']].values"
   ]
  },
  {
   "cell_type": "code",
   "execution_count": 38,
   "metadata": {
    "ExecuteTime": {
     "end_time": "2020-01-01T10:49:42.142207Z",
     "start_time": "2020-01-01T10:49:42.135099Z"
    }
   },
   "outputs": [],
   "source": [
    "def extract_a_city(api_key, name, area_km):\n",
    "    print('Extrating: {}, CA'.format(name))\n",
    "    r_meters = int(round(np.sqrt(area_km / np.pi)*1000))\n",
    "\n",
    "    query = YelpCalls(api_key, 'restaurant', '{}, CA'.format(name), r_meters)\n",
    "\n",
    "    query.get_all_reviews()\n",
    "\n",
    "    query.save_all_businesses_info('../data/{}_CA_businesses_info.json'.format(name))\n",
    "    query.save_all_reviews('../data/{}_CA_reviews.json'.format(name))\n",
    "    print('')"
   ]
  },
  {
   "cell_type": "code",
   "execution_count": 6,
   "metadata": {
    "ExecuteTime": {
     "end_time": "2020-01-01T09:39:24.736906Z",
     "start_time": "2020-01-01T09:39:24.730334Z"
    }
   },
   "outputs": [],
   "source": [
    "# api_key = '5sz65GYoRhD8Cljr_bt8BQj2KrTxXfgl04Jd5zdWRmAvpnk32_RGWA4hSZOmsPdxm0xtwugsGwLG-QdEiRBSTKXyY8P2ogECx33Q5A6gALmqpgSXo_G7mVQJuwt-XHYx'"
   ]
  },
  {
   "cell_type": "code",
   "execution_count": 42,
   "metadata": {
    "ExecuteTime": {
     "end_time": "2020-01-01T11:08:32.575750Z",
     "start_time": "2020-01-01T11:08:32.573352Z"
    }
   },
   "outputs": [],
   "source": [
    "# api_key = 'U6r96v5nxUl9QOHOPcNexHQqtk0vVmHhIzF2ILadKMHFAMfhu6qenXwHS2SWy-O2XLWW9xnN8SGQwapFmsMPZF0JQDW2MEhtqTPflESjle77l9lzAl9hUtoLn3EMXnYx'"
   ]
  },
  {
   "cell_type": "code",
   "execution_count": 55,
   "metadata": {
    "ExecuteTime": {
     "end_time": "2020-01-01T11:58:00.295675Z",
     "start_time": "2020-01-01T11:58:00.288850Z"
    }
   },
   "outputs": [],
   "source": [
    "# api_key = '0S4NG-MoVXcUgLkbleeSiYnthE-Lrl1jjzzu0bgXVkBpMnyd14tS1jtILCc6ZqYKd0wjoIr3lbuI1agVDmHqhexxrKF3pbk5irVfYdNVeWU0dgbVqY8OnM-2nH0MXnYx'"
   ]
  },
  {
   "cell_type": "code",
   "execution_count": 56,
   "metadata": {
    "ExecuteTime": {
     "end_time": "2020-01-01T11:58:06.973666Z",
     "start_time": "2020-01-01T11:58:06.971291Z"
    }
   },
   "outputs": [],
   "source": [
    "# api_key = '4YKS80ugYTmLjzzKeALM979zbefckoN4ibhotoCWn7ZrholF5GEyGdVwqg2INL8czrFNcWd8HRsXAl9PH_XHVoUtLISBiU-tb8rJ7RPLUAxKJ4pFFnBWWel_M4kMXnYx'"
   ]
  },
  {
   "cell_type": "code",
   "execution_count": 68,
   "metadata": {
    "ExecuteTime": {
     "end_time": "2020-01-01T12:46:24.054932Z",
     "start_time": "2020-01-01T12:46:24.052207Z"
    }
   },
   "outputs": [],
   "source": [
    "api_key = 'NpNv5f4ymq-EfBERCm0v3nfrlLotFNZyoIxrlXXjQE_pcGBhaC5JybnKaKgtuCdx3vCVHwTZSxrJHSs20mY7l6kYPEp4bzsDBc69CBpobriCP2J3Gan5af4AhJQMXnYx'"
   ]
  },
  {
   "cell_type": "code",
   "execution_count": 75,
   "metadata": {
    "ExecuteTime": {
     "end_time": "2020-01-01T13:02:29.200935Z",
     "start_time": "2020-01-01T12:49:19.966992Z"
    }
   },
   "outputs": [
    {
     "name": "stdout",
     "output_type": "stream",
     "text": [
      "Extrating: Sunnyvale, CA\n"
     ]
    },
    {
     "data": {
      "application/vnd.jupyter.widget-view+json": {
       "model_id": "09f406aeb95b43139ee3759fd84da4c3",
       "version_major": 2,
       "version_minor": 0
      },
      "text/plain": [
       "HBox(children=(IntProgress(value=0, max=508), HTML(value='')))"
      ]
     },
     "metadata": {},
     "output_type": "display_data"
    },
    {
     "name": "stdout",
     "output_type": "stream",
     "text": [
      "Failed to extract: zIPRIqCGRJmU7Y3xcKhv6g; will retry later\n",
      "Failed to extract: nfBk9bUx0XgFs6S6JUTJAA; will retry later\n",
      "Failed to extract: QF2jUtijdqjPBpk003y8Xw; will retry later\n",
      "Failed to extract: qOOS7NeqJBmA8h6HHm09rA; will retry later\n",
      "\n",
      "Retrying: zIPRIqCGRJmU7Y3xcKhv6g; Status: Success\n",
      "Retrying: nfBk9bUx0XgFs6S6JUTJAA; Status: Success\n",
      "Retrying: QF2jUtijdqjPBpk003y8Xw; Status: Success\n",
      "Retrying: qOOS7NeqJBmA8h6HHm09rA; Status: Success\n",
      "\n",
      "Extrating: Tiburon, CA\n"
     ]
    },
    {
     "data": {
      "application/vnd.jupyter.widget-view+json": {
       "model_id": "1fd91c3682874bf4a90073f049215ffe",
       "version_major": 2,
       "version_minor": 0
      },
      "text/plain": [
       "HBox(children=(IntProgress(value=0, max=32), HTML(value='')))"
      ]
     },
     "metadata": {},
     "output_type": "display_data"
    },
    {
     "name": "stdout",
     "output_type": "stream",
     "text": [
      "\n",
      "\n",
      "Extrating: Union City, CA\n"
     ]
    },
    {
     "data": {
      "application/vnd.jupyter.widget-view+json": {
       "model_id": "fb511ef45c0642db868ae753073e34dd",
       "version_major": 2,
       "version_minor": 0
      },
      "text/plain": [
       "HBox(children=(IntProgress(value=0, max=245), HTML(value='')))"
      ]
     },
     "metadata": {},
     "output_type": "display_data"
    },
    {
     "name": "stdout",
     "output_type": "stream",
     "text": [
      "Failed to extract: f25Wzfjsai-sD-y4nDtzhA; will retry later\n",
      "Failed to extract: xFvjYBSRSlYiIl4-kKKP2A; will retry later\n",
      "\n",
      "Retrying: f25Wzfjsai-sD-y4nDtzhA; Status: Success\n",
      "Retrying: xFvjYBSRSlYiIl4-kKKP2A; Status: Success\n",
      "\n",
      "Extrating: Vacaville, CA\n"
     ]
    },
    {
     "data": {
      "application/vnd.jupyter.widget-view+json": {
       "model_id": "b97c28876f36489c83c3df0ff9de9fc1",
       "version_major": 2,
       "version_minor": 0
      },
      "text/plain": [
       "HBox(children=(IntProgress(value=0, max=204), HTML(value='')))"
      ]
     },
     "metadata": {},
     "output_type": "display_data"
    },
    {
     "name": "stdout",
     "output_type": "stream",
     "text": [
      "Failed to extract: Dd73xjK0cfzhTtSmKAOK-Q; will retry later\n",
      "Failed to extract: j4GZ9S_PpYUeGvlQphNWrQ; will retry later\n",
      "\n",
      "Retrying: Dd73xjK0cfzhTtSmKAOK-Q; Status: Success\n",
      "Retrying: j4GZ9S_PpYUeGvlQphNWrQ; Status: Success\n",
      "\n",
      "Extrating: Vallejo, CA\n"
     ]
    },
    {
     "data": {
      "application/vnd.jupyter.widget-view+json": {
       "model_id": "302aa9ea5f7e4eb88c39c1e32455eb63",
       "version_major": 2,
       "version_minor": 0
      },
      "text/plain": [
       "HBox(children=(IntProgress(value=0, max=252), HTML(value='')))"
      ]
     },
     "metadata": {},
     "output_type": "display_data"
    },
    {
     "name": "stdout",
     "output_type": "stream",
     "text": [
      "Failed to extract: 5TBY3ZjaWLTA3880E1WN4A; will retry later\n",
      "Failed to extract: rXpRLgutTiVmcrW8_7QjYg; will retry later\n",
      "\n",
      "Retrying: 5TBY3ZjaWLTA3880E1WN4A; Status: Success\n",
      "Retrying: rXpRLgutTiVmcrW8_7QjYg; Status: Success\n",
      "\n",
      "Extrating: Walnut Creek, CA\n"
     ]
    },
    {
     "data": {
      "application/vnd.jupyter.widget-view+json": {
       "model_id": "575b018aed9e40ed957f471010f03486",
       "version_major": 2,
       "version_minor": 0
      },
      "text/plain": [
       "HBox(children=(IntProgress(value=0, max=255), HTML(value='')))"
      ]
     },
     "metadata": {},
     "output_type": "display_data"
    },
    {
     "name": "stdout",
     "output_type": "stream",
     "text": [
      "Failed to extract: uDiET4svV2YANPkSPDB9wQ; will retry later\n",
      "Failed to extract: DPBXk_bVYWQ8dRrVa9BGlg; will retry later\n",
      "\n",
      "Retrying: uDiET4svV2YANPkSPDB9wQ; Status: Success\n",
      "Retrying: DPBXk_bVYWQ8dRrVa9BGlg; Status: Success\n",
      "\n",
      "Extrating: Windsor, CA\n"
     ]
    },
    {
     "data": {
      "application/vnd.jupyter.widget-view+json": {
       "model_id": "f463fb11b6a24ddbbf88b70c4874c8a3",
       "version_major": 2,
       "version_minor": 0
      },
      "text/plain": [
       "HBox(children=(IntProgress(value=0, max=54), HTML(value='')))"
      ]
     },
     "metadata": {},
     "output_type": "display_data"
    },
    {
     "name": "stdout",
     "output_type": "stream",
     "text": [
      "\n",
      "\n",
      "Extrating: Woodside, CA\n"
     ]
    },
    {
     "data": {
      "application/vnd.jupyter.widget-view+json": {
       "model_id": "444c2bcdf3e140099d4efe2385d51fc4",
       "version_major": 2,
       "version_minor": 0
      },
      "text/plain": [
       "HBox(children=(IntProgress(value=0, max=31), HTML(value='')))"
      ]
     },
     "metadata": {},
     "output_type": "display_data"
    },
    {
     "name": "stdout",
     "output_type": "stream",
     "text": [
      "\n",
      "\n",
      "Extrating: Yountville, CA\n"
     ]
    },
    {
     "data": {
      "application/vnd.jupyter.widget-view+json": {
       "model_id": "16ee18ee193e4b06bc196d653f53772e",
       "version_major": 2,
       "version_minor": 0
      },
      "text/plain": [
       "HBox(children=(IntProgress(value=0, max=32), HTML(value='')))"
      ]
     },
     "metadata": {},
     "output_type": "display_data"
    },
    {
     "name": "stdout",
     "output_type": "stream",
     "text": [
      "\n",
      "\n"
     ]
    }
   ],
   "source": [
    "for i in range(92,101):\n",
    "# for i in [90]:\n",
    "    name, area_km = name_km2[i]\n",
    "    extract_a_city(api_key, name, area_km)"
   ]
  }
 ],
 "metadata": {
  "kernelspec": {
   "display_name": "Python 3",
   "language": "python",
   "name": "python3"
  },
  "language_info": {
   "codemirror_mode": {
    "name": "ipython",
    "version": 3
   },
   "file_extension": ".py",
   "mimetype": "text/x-python",
   "name": "python",
   "nbconvert_exporter": "python",
   "pygments_lexer": "ipython3",
   "version": "3.7.3"
  },
  "toc": {
   "base_numbering": 1,
   "nav_menu": {},
   "number_sections": true,
   "sideBar": true,
   "skip_h1_title": false,
   "title_cell": "Table of Contents",
   "title_sidebar": "Contents",
   "toc_cell": false,
   "toc_position": {},
   "toc_section_display": true,
   "toc_window_display": false
  }
 },
 "nbformat": 4,
 "nbformat_minor": 2
}
