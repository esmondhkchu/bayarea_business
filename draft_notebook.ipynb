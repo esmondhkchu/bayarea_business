{
 "cells": [
  {
   "cell_type": "code",
   "execution_count": 1,
   "metadata": {
    "ExecuteTime": {
     "end_time": "2020-01-01T05:06:59.902398Z",
     "start_time": "2020-01-01T05:06:59.737397Z"
    }
   },
   "outputs": [],
   "source": [
    "import requests\n",
    "import json"
   ]
  },
  {
   "cell_type": "code",
   "execution_count": 2,
   "metadata": {
    "ExecuteTime": {
     "end_time": "2020-01-01T05:06:59.985457Z",
     "start_time": "2020-01-01T05:06:59.916625Z"
    }
   },
   "outputs": [],
   "source": [
    "from bs4 import BeautifulSoup"
   ]
  },
  {
   "cell_type": "code",
   "execution_count": 3,
   "metadata": {
    "ExecuteTime": {
     "end_time": "2020-01-01T05:07:00.069094Z",
     "start_time": "2020-01-01T05:07:00.061260Z"
    }
   },
   "outputs": [],
   "source": [
    "from tqdm import tqdm_notebook as tqdm"
   ]
  },
  {
   "cell_type": "code",
   "execution_count": 4,
   "metadata": {
    "ExecuteTime": {
     "end_time": "2020-01-01T05:07:00.770420Z",
     "start_time": "2020-01-01T05:07:00.241400Z"
    }
   },
   "outputs": [],
   "source": [
    "import numpy as np\n",
    "import pandas as pd"
   ]
  },
  {
   "cell_type": "code",
   "execution_count": 5,
   "metadata": {
    "ExecuteTime": {
     "end_time": "2020-01-01T05:07:01.212300Z",
     "start_time": "2020-01-01T05:07:01.208305Z"
    }
   },
   "outputs": [],
   "source": [
    "import sys\n",
    "sys.path.insert(1, './tools')\n",
    "import yelp_fusion"
   ]
  },
  {
   "cell_type": "code",
   "execution_count": 6,
   "metadata": {
    "ExecuteTime": {
     "end_time": "2020-01-01T05:07:02.113429Z",
     "start_time": "2020-01-01T05:07:02.110561Z"
    }
   },
   "outputs": [],
   "source": [
    "api_key = '5sz65GYoRhD8Cljr_bt8BQj2KrTxXfgl04Jd5zdWRmAvpnk32_RGWA4hSZOmsPdxm0xtwugsGwLG-QdEiRBSTKXyY8P2ogECx33Q5A6gALmqpgSXo_G7mVQJuwt-XHYx'\n",
    "term = 'restaurant'\n",
    "location = 'Vallejo, CA'"
   ]
  },
  {
   "cell_type": "code",
   "execution_count": 7,
   "metadata": {
    "ExecuteTime": {
     "end_time": "2020-01-01T05:07:51.350125Z",
     "start_time": "2020-01-01T05:07:44.240831Z"
    }
   },
   "outputs": [],
   "source": [
    "query = yelp_fusion.YelpCalls(api_key, term, location, radius=10000)"
   ]
  },
  {
   "cell_type": "code",
   "execution_count": 8,
   "metadata": {
    "ExecuteTime": {
     "end_time": "2020-01-01T05:10:28.398294Z",
     "start_time": "2020-01-01T05:08:31.009607Z"
    }
   },
   "outputs": [
    {
     "name": "stderr",
     "output_type": "stream",
     "text": [
      " 70%|███████   | 250/356 [01:20<01:11,  1.47it/s]"
     ]
    },
    {
     "name": "stdout",
     "output_type": "stream",
     "text": [
      "Failed to extract: vLa-PBaqumhB06q06amGaA; will retry later\n"
     ]
    },
    {
     "name": "stderr",
     "output_type": "stream",
     "text": [
      "\r",
      " 71%|███████   | 251/356 [01:22<01:53,  1.08s/it]"
     ]
    },
    {
     "name": "stdout",
     "output_type": "stream",
     "text": [
      "Failed to extract: G6nLaDzr61uXcWmcqjk5zg; will retry later\n"
     ]
    },
    {
     "name": "stderr",
     "output_type": "stream",
     "text": [
      " 92%|█████████▏| 327/356 [01:47<00:21,  1.37it/s]"
     ]
    },
    {
     "name": "stdout",
     "output_type": "stream",
     "text": [
      "Failed to extract: jW66693LVPlyDtzAoeb7KQ; will retry later\n"
     ]
    },
    {
     "name": "stderr",
     "output_type": "stream",
     "text": [
      "100%|██████████| 356/356 [01:56<00:00,  3.06it/s]\n"
     ]
    },
    {
     "name": "stdout",
     "output_type": "stream",
     "text": [
      "Retrying: vLa-PBaqumhB06q06amGaA; Status: Success\n",
      "Retrying: G6nLaDzr61uXcWmcqjk5zg; Status: Success\n",
      "Retrying: jW66693LVPlyDtzAoeb7KQ; Status: Success\n"
     ]
    }
   ],
   "source": [
    "query.get_all_reviews()"
   ]
  },
  {
   "cell_type": "code",
   "execution_count": 9,
   "metadata": {
    "ExecuteTime": {
     "end_time": "2020-01-01T05:11:01.740207Z",
     "start_time": "2020-01-01T05:11:01.702694Z"
    }
   },
   "outputs": [],
   "source": [
    "query.save_all_businesses_info('./data/one.json')"
   ]
  },
  {
   "cell_type": "code",
   "execution_count": 10,
   "metadata": {
    "ExecuteTime": {
     "end_time": "2020-01-01T05:11:10.493698Z",
     "start_time": "2020-01-01T05:11:10.456141Z"
    }
   },
   "outputs": [],
   "source": [
    "query.save_all_reviews('./data/two.json')"
   ]
  },
  {
   "cell_type": "code",
   "execution_count": 12,
   "metadata": {
    "ExecuteTime": {
     "end_time": "2020-01-01T05:11:30.159028Z",
     "start_time": "2020-01-01T05:11:28.851189Z"
    }
   },
   "outputs": [
    {
     "data": {
      "text/html": [
       "<div>\n",
       "<style scoped>\n",
       "    .dataframe tbody tr th:only-of-type {\n",
       "        vertical-align: middle;\n",
       "    }\n",
       "\n",
       "    .dataframe tbody tr th {\n",
       "        vertical-align: top;\n",
       "    }\n",
       "\n",
       "    .dataframe thead th {\n",
       "        text-align: right;\n",
       "    }\n",
       "</style>\n",
       "<table border=\"1\" class=\"dataframe\">\n",
       "  <thead>\n",
       "    <tr style=\"text-align: right;\">\n",
       "      <th></th>\n",
       "      <th>business_id</th>\n",
       "      <th>id</th>\n",
       "      <th>url</th>\n",
       "      <th>text</th>\n",
       "      <th>rating</th>\n",
       "      <th>time_created</th>\n",
       "    </tr>\n",
       "  </thead>\n",
       "  <tbody>\n",
       "    <tr>\n",
       "      <td>0</td>\n",
       "      <td>CJAelc54rDt3CuRmNzptdQ</td>\n",
       "      <td>5rg7_KKBF1OZakikmWNa5g</td>\n",
       "      <td>https://www.yelp.com/biz/sunshine-hawaiian-bbq...</td>\n",
       "      <td>Wanted some good food after taking the kids to...</td>\n",
       "      <td>5</td>\n",
       "      <td>2019-12-30 22:37:24</td>\n",
       "    </tr>\n",
       "    <tr>\n",
       "      <td>1</td>\n",
       "      <td>CJAelc54rDt3CuRmNzptdQ</td>\n",
       "      <td>9ZKhXEQUKjGaZbKVZihB9g</td>\n",
       "      <td>https://www.yelp.com/biz/sunshine-hawaiian-bbq...</td>\n",
       "      <td>I've had the black garlic ramen several times ...</td>\n",
       "      <td>4</td>\n",
       "      <td>2019-12-19 22:32:46</td>\n",
       "    </tr>\n",
       "    <tr>\n",
       "      <td>2</td>\n",
       "      <td>CJAelc54rDt3CuRmNzptdQ</td>\n",
       "      <td>-L_la2FTnPNjBKy_w0ssXQ</td>\n",
       "      <td>https://www.yelp.com/biz/sunshine-hawaiian-bbq...</td>\n",
       "      <td>I was craving ramen so I looked on yelp and th...</td>\n",
       "      <td>5</td>\n",
       "      <td>2019-12-13 18:49:16</td>\n",
       "    </tr>\n",
       "    <tr>\n",
       "      <td>0</td>\n",
       "      <td>vXCe-5mZ-Vwj9SFyUDUUCA</td>\n",
       "      <td>f3KbVnalc-op00CZIgR7Hg</td>\n",
       "      <td>https://www.yelp.com/biz/maya-thai-house-valle...</td>\n",
       "      <td>This place is the best place in vallejo!!!\\n\\n...</td>\n",
       "      <td>5</td>\n",
       "      <td>2019-12-27 17:55:38</td>\n",
       "    </tr>\n",
       "    <tr>\n",
       "      <td>1</td>\n",
       "      <td>vXCe-5mZ-Vwj9SFyUDUUCA</td>\n",
       "      <td>fzKu-Ma8MuMJjH3ziXon6Q</td>\n",
       "      <td>https://www.yelp.com/biz/maya-thai-house-valle...</td>\n",
       "      <td>Their food...Good. Why then the 1 Star!? I'm i...</td>\n",
       "      <td>1</td>\n",
       "      <td>2019-12-22 19:57:04</td>\n",
       "    </tr>\n",
       "    <tr>\n",
       "      <td>...</td>\n",
       "      <td>...</td>\n",
       "      <td>...</td>\n",
       "      <td>...</td>\n",
       "      <td>...</td>\n",
       "      <td>...</td>\n",
       "      <td>...</td>\n",
       "    </tr>\n",
       "    <tr>\n",
       "      <td>1</td>\n",
       "      <td>G6nLaDzr61uXcWmcqjk5zg</td>\n",
       "      <td>HT6AQ-dsxHPlI0ODUKgeFA</td>\n",
       "      <td>https://www.yelp.com/biz/chop-six-fresh-asian-...</td>\n",
       "      <td>My brother and I had the meal pass. With it we...</td>\n",
       "      <td>3</td>\n",
       "      <td>2019-07-17 19:50:53</td>\n",
       "    </tr>\n",
       "    <tr>\n",
       "      <td>2</td>\n",
       "      <td>G6nLaDzr61uXcWmcqjk5zg</td>\n",
       "      <td>iG5ZWIctwMQKAS3WocsoFA</td>\n",
       "      <td>https://www.yelp.com/biz/chop-six-fresh-asian-...</td>\n",
       "      <td>I don't want to be a huge hater because this i...</td>\n",
       "      <td>2</td>\n",
       "      <td>2019-07-04 15:51:24</td>\n",
       "    </tr>\n",
       "    <tr>\n",
       "      <td>0</td>\n",
       "      <td>jW66693LVPlyDtzAoeb7KQ</td>\n",
       "      <td>dPewt9SChUG3ngMB7tlt_A</td>\n",
       "      <td>https://www.yelp.com/biz/travelin-joe-espresso...</td>\n",
       "      <td>Can't say enough about this business. Super or...</td>\n",
       "      <td>5</td>\n",
       "      <td>2018-08-13 10:04:45</td>\n",
       "    </tr>\n",
       "    <tr>\n",
       "      <td>1</td>\n",
       "      <td>jW66693LVPlyDtzAoeb7KQ</td>\n",
       "      <td>Rd8qczGTymKO8xiXhAYPxw</td>\n",
       "      <td>https://www.yelp.com/biz/travelin-joe-espresso...</td>\n",
       "      <td>We had Joe come in our office for \"Staff Appre...</td>\n",
       "      <td>5</td>\n",
       "      <td>2019-04-25 12:45:10</td>\n",
       "    </tr>\n",
       "    <tr>\n",
       "      <td>2</td>\n",
       "      <td>jW66693LVPlyDtzAoeb7KQ</td>\n",
       "      <td>yeEFI1V3el4UPO5b3Dc0ew</td>\n",
       "      <td>https://www.yelp.com/biz/travelin-joe-espresso...</td>\n",
       "      <td>I scheduled Travelin Joe's for a work event - ...</td>\n",
       "      <td>1</td>\n",
       "      <td>2018-02-19 09:37:17</td>\n",
       "    </tr>\n",
       "  </tbody>\n",
       "</table>\n",
       "<p>1038 rows × 6 columns</p>\n",
       "</div>"
      ],
      "text/plain": [
       "               business_id                      id  \\\n",
       "0   CJAelc54rDt3CuRmNzptdQ  5rg7_KKBF1OZakikmWNa5g   \n",
       "1   CJAelc54rDt3CuRmNzptdQ  9ZKhXEQUKjGaZbKVZihB9g   \n",
       "2   CJAelc54rDt3CuRmNzptdQ  -L_la2FTnPNjBKy_w0ssXQ   \n",
       "0   vXCe-5mZ-Vwj9SFyUDUUCA  f3KbVnalc-op00CZIgR7Hg   \n",
       "1   vXCe-5mZ-Vwj9SFyUDUUCA  fzKu-Ma8MuMJjH3ziXon6Q   \n",
       "..                     ...                     ...   \n",
       "1   G6nLaDzr61uXcWmcqjk5zg  HT6AQ-dsxHPlI0ODUKgeFA   \n",
       "2   G6nLaDzr61uXcWmcqjk5zg  iG5ZWIctwMQKAS3WocsoFA   \n",
       "0   jW66693LVPlyDtzAoeb7KQ  dPewt9SChUG3ngMB7tlt_A   \n",
       "1   jW66693LVPlyDtzAoeb7KQ  Rd8qczGTymKO8xiXhAYPxw   \n",
       "2   jW66693LVPlyDtzAoeb7KQ  yeEFI1V3el4UPO5b3Dc0ew   \n",
       "\n",
       "                                                  url  \\\n",
       "0   https://www.yelp.com/biz/sunshine-hawaiian-bbq...   \n",
       "1   https://www.yelp.com/biz/sunshine-hawaiian-bbq...   \n",
       "2   https://www.yelp.com/biz/sunshine-hawaiian-bbq...   \n",
       "0   https://www.yelp.com/biz/maya-thai-house-valle...   \n",
       "1   https://www.yelp.com/biz/maya-thai-house-valle...   \n",
       "..                                                ...   \n",
       "1   https://www.yelp.com/biz/chop-six-fresh-asian-...   \n",
       "2   https://www.yelp.com/biz/chop-six-fresh-asian-...   \n",
       "0   https://www.yelp.com/biz/travelin-joe-espresso...   \n",
       "1   https://www.yelp.com/biz/travelin-joe-espresso...   \n",
       "2   https://www.yelp.com/biz/travelin-joe-espresso...   \n",
       "\n",
       "                                                 text  rating  \\\n",
       "0   Wanted some good food after taking the kids to...       5   \n",
       "1   I've had the black garlic ramen several times ...       4   \n",
       "2   I was craving ramen so I looked on yelp and th...       5   \n",
       "0   This place is the best place in vallejo!!!\\n\\n...       5   \n",
       "1   Their food...Good. Why then the 1 Star!? I'm i...       1   \n",
       "..                                                ...     ...   \n",
       "1   My brother and I had the meal pass. With it we...       3   \n",
       "2   I don't want to be a huge hater because this i...       2   \n",
       "0   Can't say enough about this business. Super or...       5   \n",
       "1   We had Joe come in our office for \"Staff Appre...       5   \n",
       "2   I scheduled Travelin Joe's for a work event - ...       1   \n",
       "\n",
       "           time_created  \n",
       "0   2019-12-30 22:37:24  \n",
       "1   2019-12-19 22:32:46  \n",
       "2   2019-12-13 18:49:16  \n",
       "0   2019-12-27 17:55:38  \n",
       "1   2019-12-22 19:57:04  \n",
       "..                  ...  \n",
       "1   2019-07-17 19:50:53  \n",
       "2   2019-07-04 15:51:24  \n",
       "0   2018-08-13 10:04:45  \n",
       "1   2019-04-25 12:45:10  \n",
       "2   2018-02-19 09:37:17  \n",
       "\n",
       "[1038 rows x 6 columns]"
      ]
     },
     "execution_count": 12,
     "metadata": {},
     "output_type": "execute_result"
    }
   ],
   "source": [
    "query.get_all_reviews_df()"
   ]
  },
  {
   "cell_type": "code",
   "execution_count": null,
   "metadata": {},
   "outputs": [],
   "source": []
  },
  {
   "cell_type": "markdown",
   "metadata": {},
   "source": [
    "# Bay Area Cities Information (Web Scraping)"
   ]
  },
  {
   "cell_type": "code",
   "execution_count": 11,
   "metadata": {
    "ExecuteTime": {
     "end_time": "2020-01-01T02:30:16.149192Z",
     "start_time": "2020-01-01T02:30:16.146555Z"
    }
   },
   "outputs": [],
   "source": [
    "url = 'https://en.wikipedia.org/wiki/List_of_cities_and_towns_in_the_San_Francisco_Bay_Area'"
   ]
  },
  {
   "cell_type": "code",
   "execution_count": 12,
   "metadata": {
    "ExecuteTime": {
     "end_time": "2020-01-01T02:30:16.686925Z",
     "start_time": "2020-01-01T02:30:16.560803Z"
    }
   },
   "outputs": [],
   "source": [
    "source = requests.get(url)"
   ]
  },
  {
   "cell_type": "code",
   "execution_count": 13,
   "metadata": {
    "ExecuteTime": {
     "end_time": "2020-01-01T02:30:17.188892Z",
     "start_time": "2020-01-01T02:30:16.987971Z"
    }
   },
   "outputs": [],
   "source": [
    "soup = BeautifulSoup(source.content, 'html.parser')"
   ]
  },
  {
   "cell_type": "code",
   "execution_count": 14,
   "metadata": {
    "ExecuteTime": {
     "end_time": "2020-01-01T02:30:17.542592Z",
     "start_time": "2020-01-01T02:30:17.516097Z"
    }
   },
   "outputs": [],
   "source": [
    "all_rows = soup.find_all('table', class_='wikitable')[1].find_all('tr')"
   ]
  },
  {
   "cell_type": "code",
   "execution_count": 15,
   "metadata": {
    "ExecuteTime": {
     "end_time": "2020-01-01T02:30:18.068712Z",
     "start_time": "2020-01-01T02:30:18.047656Z"
    }
   },
   "outputs": [],
   "source": [
    "all_rows_info = [[i.text.rstrip() for i in j.find_all(['th','td'])] for j in all_rows]"
   ]
  },
  {
   "cell_type": "code",
   "execution_count": 16,
   "metadata": {
    "ExecuteTime": {
     "end_time": "2020-01-01T02:30:18.400756Z",
     "start_time": "2020-01-01T02:30:18.395305Z"
    }
   },
   "outputs": [],
   "source": [
    "bay_dem_df = pd.DataFrame(all_rows_info[2:], columns=['Name','Type','County','Population','sq_mi','km2','Incorporated'])"
   ]
  },
  {
   "cell_type": "code",
   "execution_count": 17,
   "metadata": {
    "ExecuteTime": {
     "end_time": "2020-01-01T02:30:18.975362Z",
     "start_time": "2020-01-01T02:30:18.968967Z"
    }
   },
   "outputs": [],
   "source": [
    "bay_dem_df.to_csv('./data/bay_area_demography.csv', index=False)"
   ]
  }
 ],
 "metadata": {
  "kernelspec": {
   "display_name": "Python 3",
   "language": "python",
   "name": "python3"
  },
  "language_info": {
   "codemirror_mode": {
    "name": "ipython",
    "version": 3
   },
   "file_extension": ".py",
   "mimetype": "text/x-python",
   "name": "python",
   "nbconvert_exporter": "python",
   "pygments_lexer": "ipython3",
   "version": "3.7.2"
  },
  "toc": {
   "base_numbering": 1,
   "nav_menu": {},
   "number_sections": true,
   "sideBar": true,
   "skip_h1_title": false,
   "title_cell": "Table of Contents",
   "title_sidebar": "Contents",
   "toc_cell": false,
   "toc_position": {},
   "toc_section_display": true,
   "toc_window_display": false
  }
 },
 "nbformat": 4,
 "nbformat_minor": 2
}
