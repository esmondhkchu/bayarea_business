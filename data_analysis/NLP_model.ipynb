{
 "cells": [
  {
   "cell_type": "code",
   "execution_count": 1,
   "metadata": {
    "ExecuteTime": {
     "end_time": "2020-01-03T01:50:13.200485Z",
     "start_time": "2020-01-03T01:50:13.197412Z"
    }
   },
   "outputs": [],
   "source": [
    "import warnings\n",
    "warnings.filterwarnings('ignore')"
   ]
  },
  {
   "cell_type": "code",
   "execution_count": 2,
   "metadata": {
    "ExecuteTime": {
     "end_time": "2020-01-03T01:50:14.608679Z",
     "start_time": "2020-01-03T01:50:13.202783Z"
    }
   },
   "outputs": [],
   "source": [
    "import numpy as np\n",
    "import pandas as pd"
   ]
  },
  {
   "cell_type": "code",
   "execution_count": 3,
   "metadata": {
    "ExecuteTime": {
     "end_time": "2020-01-03T01:50:15.003062Z",
     "start_time": "2020-01-03T01:50:14.611535Z"
    }
   },
   "outputs": [],
   "source": [
    "import matplotlib.pyplot as plt"
   ]
  },
  {
   "cell_type": "code",
   "execution_count": 4,
   "metadata": {
    "ExecuteTime": {
     "end_time": "2020-01-03T01:50:15.016476Z",
     "start_time": "2020-01-03T01:50:15.005488Z"
    }
   },
   "outputs": [],
   "source": [
    "from tqdm import tqdm_notebook as tqdm"
   ]
  },
  {
   "cell_type": "code",
   "execution_count": 5,
   "metadata": {
    "ExecuteTime": {
     "end_time": "2020-01-03T01:50:15.024172Z",
     "start_time": "2020-01-03T01:50:15.018605Z"
    }
   },
   "outputs": [],
   "source": [
    "import sys\n",
    "sys.path.insert(1, '../tools')\n",
    "from data_tools import *"
   ]
  },
  {
   "cell_type": "code",
   "execution_count": 6,
   "metadata": {
    "ExecuteTime": {
     "end_time": "2020-01-03T01:50:15.698155Z",
     "start_time": "2020-01-03T01:50:15.026860Z"
    }
   },
   "outputs": [],
   "source": [
    "bay_area_demo = pd.read_csv('../data/bay_area_demography.csv')\n",
    "all_businesses_info = pd.read_csv('../data/all_businesses_info.csv')\n",
    "all_reviews = pd.read_csv('../data/all_reviews.csv')"
   ]
  },
  {
   "cell_type": "code",
   "execution_count": 7,
   "metadata": {
    "ExecuteTime": {
     "end_time": "2020-01-03T01:50:15.705959Z",
     "start_time": "2020-01-03T01:50:15.702490Z"
    }
   },
   "outputs": [],
   "source": [
    "def check_unique_dtypes(in_arr):\n",
    "    return np.unique([type(i).__name__ for i in in_arr]).tolist()"
   ]
  },
  {
   "cell_type": "markdown",
   "metadata": {
    "ExecuteTime": {
     "end_time": "2020-01-02T06:42:36.789527Z",
     "start_time": "2020-01-02T06:42:36.784662Z"
    }
   },
   "source": [
    "# Clean text"
   ]
  },
  {
   "cell_type": "code",
   "execution_count": 8,
   "metadata": {
    "ExecuteTime": {
     "end_time": "2020-01-03T01:50:16.702979Z",
     "start_time": "2020-01-03T01:50:15.709848Z"
    }
   },
   "outputs": [],
   "source": [
    "from nltk.tokenize import RegexpTokenizer\n",
    "import re"
   ]
  },
  {
   "cell_type": "code",
   "execution_count": 9,
   "metadata": {
    "ExecuteTime": {
     "end_time": "2020-01-03T01:50:16.709765Z",
     "start_time": "2020-01-03T01:50:16.705613Z"
    }
   },
   "outputs": [],
   "source": [
    "def processed_text(in_str):\n",
    "    lower_str = in_str.lower()\n",
    "    splited_str = re.split(r'[.\\s]', lower_str)\n",
    "    return splited_str"
   ]
  },
  {
   "cell_type": "code",
   "execution_count": 10,
   "metadata": {
    "ExecuteTime": {
     "end_time": "2020-01-03T01:50:16.716841Z",
     "start_time": "2020-01-03T01:50:16.712334Z"
    }
   },
   "outputs": [],
   "source": [
    "def clean_text(in_str):\n",
    "    \"\"\" clean an input str by\n",
    "        1. lower it\n",
    "        2. removed all punctuations and symbols\n",
    "    \"\"\"\n",
    "    after_re = [re.sub(r'^[/\\_\\W]+|[\\_\\W]+$|\\d|\\n', '', i) for i in in_str]\n",
    "    processed = [i for i in after_re if i != '']\n",
    "    return processed"
   ]
  },
  {
   "cell_type": "code",
   "execution_count": 11,
   "metadata": {
    "ExecuteTime": {
     "end_time": "2020-01-03T01:50:24.939707Z",
     "start_time": "2020-01-03T01:50:16.719410Z"
    }
   },
   "outputs": [
    {
     "data": {
      "application/vnd.jupyter.widget-view+json": {
       "model_id": "8a92bdad72c44917920b8767b57037b7",
       "version_major": 2,
       "version_minor": 0
      },
      "text/plain": [
       "HBox(children=(IntProgress(value=0, max=56108), HTML(value='')))"
      ]
     },
     "metadata": {},
     "output_type": "display_data"
    },
    {
     "name": "stdout",
     "output_type": "stream",
     "text": [
      "\n"
     ]
    },
    {
     "data": {
      "application/vnd.jupyter.widget-view+json": {
       "model_id": "c3d24fae9b0648f8bfda8b21a46b055c",
       "version_major": 2,
       "version_minor": 0
      },
      "text/plain": [
       "HBox(children=(IntProgress(value=0, max=56108), HTML(value='')))"
      ]
     },
     "metadata": {},
     "output_type": "display_data"
    },
    {
     "name": "stdout",
     "output_type": "stream",
     "text": [
      "\n"
     ]
    }
   ],
   "source": [
    "texts = [clean_text(processed_text(i)) for i in tqdm(all_reviews['text'])]\n",
    "texts = [clean_text(i) for i in tqdm(texts)]\n",
    "texts = [' '.join(i) for i in texts]"
   ]
  },
  {
   "cell_type": "code",
   "execution_count": 53,
   "metadata": {
    "ExecuteTime": {
     "end_time": "2020-01-03T02:25:09.883365Z",
     "start_time": "2020-01-03T02:25:09.856818Z"
    }
   },
   "outputs": [],
   "source": [
    "labels = all_reviews['rating'].values\n",
    "binary_labels = [0 if i <= 3 else 1 for i in labels]"
   ]
  },
  {
   "cell_type": "code",
   "execution_count": 54,
   "metadata": {
    "ExecuteTime": {
     "end_time": "2020-01-03T02:25:10.891162Z",
     "start_time": "2020-01-03T02:25:10.854593Z"
    }
   },
   "outputs": [],
   "source": [
    "texts_labels = pd.DataFrame({'texts':texts, 'labels':labels, 'binary_labels':binary_labels})\n",
    "texts_labels = texts_labels.sample(frac=1).reset_index(drop=True)"
   ]
  },
  {
   "cell_type": "markdown",
   "metadata": {},
   "source": [
    "# Tokenize and numeric vector"
   ]
  },
  {
   "cell_type": "code",
   "execution_count": 55,
   "metadata": {
    "ExecuteTime": {
     "end_time": "2020-01-03T02:25:12.749767Z",
     "start_time": "2020-01-03T02:25:12.747025Z"
    }
   },
   "outputs": [],
   "source": [
    "from keras.preprocessing.text import Tokenizer"
   ]
  },
  {
   "cell_type": "code",
   "execution_count": 56,
   "metadata": {
    "ExecuteTime": {
     "end_time": "2020-01-03T02:25:15.078132Z",
     "start_time": "2020-01-03T02:25:13.242429Z"
    }
   },
   "outputs": [],
   "source": [
    "tokenizer = Tokenizer(num_words=10000)\n",
    "tokenizer.fit_on_texts(texts_labels.texts.values)"
   ]
  },
  {
   "cell_type": "code",
   "execution_count": 57,
   "metadata": {
    "ExecuteTime": {
     "end_time": "2020-01-03T02:25:16.600339Z",
     "start_time": "2020-01-03T02:25:15.080619Z"
    }
   },
   "outputs": [],
   "source": [
    "sequences = tokenizer.texts_to_sequences(texts_labels.texts.values)"
   ]
  },
  {
   "cell_type": "code",
   "execution_count": 58,
   "metadata": {
    "ExecuteTime": {
     "end_time": "2020-01-03T02:25:16.642957Z",
     "start_time": "2020-01-03T02:25:16.603202Z"
    }
   },
   "outputs": [],
   "source": [
    "texts_labels['sequence'] = sequences"
   ]
  },
  {
   "cell_type": "code",
   "execution_count": 59,
   "metadata": {
    "ExecuteTime": {
     "end_time": "2020-01-03T02:25:17.697181Z",
     "start_time": "2020-01-03T02:25:17.684838Z"
    }
   },
   "outputs": [
    {
     "data": {
      "text/html": [
       "<div>\n",
       "<style scoped>\n",
       "    .dataframe tbody tr th:only-of-type {\n",
       "        vertical-align: middle;\n",
       "    }\n",
       "\n",
       "    .dataframe tbody tr th {\n",
       "        vertical-align: top;\n",
       "    }\n",
       "\n",
       "    .dataframe thead th {\n",
       "        text-align: right;\n",
       "    }\n",
       "</style>\n",
       "<table border=\"1\" class=\"dataframe\">\n",
       "  <thead>\n",
       "    <tr style=\"text-align: right;\">\n",
       "      <th></th>\n",
       "      <th>texts</th>\n",
       "      <th>labels</th>\n",
       "      <th>binary_labels</th>\n",
       "      <th>sequence</th>\n",
       "    </tr>\n",
       "  </thead>\n",
       "  <tbody>\n",
       "    <tr>\n",
       "      <td>0</td>\n",
       "      <td>i've been to pings many times all dinner visit...</td>\n",
       "      <td>4.0</td>\n",
       "      <td>1</td>\n",
       "      <td>[46, 36, 5, 139, 96, 48, 111, 1694, 13, 298, 1...</td>\n",
       "    </tr>\n",
       "    <tr>\n",
       "      <td>1</td>\n",
       "      <td>never fails i have been going to this establis...</td>\n",
       "      <td>5.0</td>\n",
       "      <td>1</td>\n",
       "      <td>[105, 3390, 3, 26, 36, 186, 5, 8, 822, 9, 128,...</td>\n",
       "    </tr>\n",
       "    <tr>\n",
       "      <td>2</td>\n",
       "      <td>sad day love their tacos but every time i orde...</td>\n",
       "      <td>2.0</td>\n",
       "      <td>0</td>\n",
       "      <td>[986, 164, 58, 38, 84, 18, 166, 35, 3, 64, 4, ...</td>\n",
       "    </tr>\n",
       "    <tr>\n",
       "      <td>3</td>\n",
       "      <td>i am very dissapointed with bbq pork moo yang ...</td>\n",
       "      <td>1.0</td>\n",
       "      <td>0</td>\n",
       "      <td>[3, 125, 34, 5624, 19, 255, 291, 7026, 4814, 1...</td>\n",
       "    </tr>\n",
       "    <tr>\n",
       "      <td>4</td>\n",
       "      <td>i've tried several kabob restaurants in the ba...</td>\n",
       "      <td>5.0</td>\n",
       "      <td>1</td>\n",
       "      <td>[46, 108, 376, 658, 246, 10, 1, 149, 86, 116, ...</td>\n",
       "    </tr>\n",
       "  </tbody>\n",
       "</table>\n",
       "</div>"
      ],
      "text/plain": [
       "                                               texts  labels  binary_labels  \\\n",
       "0  i've been to pings many times all dinner visit...     4.0              1   \n",
       "1  never fails i have been going to this establis...     5.0              1   \n",
       "2  sad day love their tacos but every time i orde...     2.0              0   \n",
       "3  i am very dissapointed with bbq pork moo yang ...     1.0              0   \n",
       "4  i've tried several kabob restaurants in the ba...     5.0              1   \n",
       "\n",
       "                                            sequence  \n",
       "0  [46, 36, 5, 139, 96, 48, 111, 1694, 13, 298, 1...  \n",
       "1  [105, 3390, 3, 26, 36, 186, 5, 8, 822, 9, 128,...  \n",
       "2  [986, 164, 58, 38, 84, 18, 166, 35, 3, 64, 4, ...  \n",
       "3  [3, 125, 34, 5624, 19, 255, 291, 7026, 4814, 1...  \n",
       "4  [46, 108, 376, 658, 246, 10, 1, 149, 86, 116, ...  "
      ]
     },
     "execution_count": 59,
     "metadata": {},
     "output_type": "execute_result"
    }
   ],
   "source": [
    "texts_labels.head()"
   ]
  },
  {
   "cell_type": "markdown",
   "metadata": {
    "ExecuteTime": {
     "end_time": "2020-01-03T10:37:14.833310Z",
     "start_time": "2020-01-03T10:37:14.811837Z"
    }
   },
   "source": [
    "__Output the cleaned text to .csv__"
   ]
  },
  {
   "cell_type": "code",
   "execution_count": 119,
   "metadata": {
    "ExecuteTime": {
     "end_time": "2020-01-03T10:39:02.704868Z",
     "start_time": "2020-01-03T10:39:02.699942Z"
    }
   },
   "outputs": [],
   "source": [
    "texts_labels['reviews_id'] = all_reviews.id"
   ]
  },
  {
   "cell_type": "code",
   "execution_count": 122,
   "metadata": {
    "ExecuteTime": {
     "end_time": "2020-01-03T10:40:05.380167Z",
     "start_time": "2020-01-03T10:40:04.980967Z"
    }
   },
   "outputs": [],
   "source": [
    "# texts_labels[['texts','labels','reviews_id']].to_csv('../data/cleaned_texts.csv', index=False)"
   ]
  },
  {
   "cell_type": "markdown",
   "metadata": {},
   "source": [
    "# Train Test Split"
   ]
  },
  {
   "cell_type": "code",
   "execution_count": 60,
   "metadata": {
    "ExecuteTime": {
     "end_time": "2020-01-03T02:25:22.863756Z",
     "start_time": "2020-01-03T02:25:22.861049Z"
    }
   },
   "outputs": [],
   "source": [
    "from keras import preprocessing"
   ]
  },
  {
   "cell_type": "code",
   "execution_count": 63,
   "metadata": {
    "ExecuteTime": {
     "end_time": "2020-01-03T02:25:29.435759Z",
     "start_time": "2020-01-03T02:25:29.432729Z"
    }
   },
   "outputs": [],
   "source": [
    "train_ratio = 0.8\n",
    "train_cutoff = round(texts_labels.shape[0]*train_ratio)"
   ]
  },
  {
   "cell_type": "code",
   "execution_count": 64,
   "metadata": {
    "ExecuteTime": {
     "end_time": "2020-01-03T02:25:30.049402Z",
     "start_time": "2020-01-03T02:25:30.029494Z"
    }
   },
   "outputs": [],
   "source": [
    "# splitted data as a dataframe\n",
    "train_data = texts_labels.iloc[range(0,train_cutoff)]\n",
    "test_data = texts_labels.iloc[range(train_cutoff, texts_labels.shape[0])]"
   ]
  },
  {
   "cell_type": "markdown",
   "metadata": {},
   "source": [
    "__For binary output__"
   ]
  },
  {
   "cell_type": "code",
   "execution_count": 65,
   "metadata": {
    "ExecuteTime": {
     "end_time": "2020-01-03T02:25:31.595688Z",
     "start_time": "2020-01-03T02:25:31.086389Z"
    }
   },
   "outputs": [],
   "source": [
    "x_train = preprocessing.sequence.pad_sequences(train_data['sequence'], 25)\n",
    "x_test = preprocessing.sequence.pad_sequences(test_data['sequence'], 25)"
   ]
  },
  {
   "cell_type": "code",
   "execution_count": 66,
   "metadata": {
    "ExecuteTime": {
     "end_time": "2020-01-03T02:25:32.676488Z",
     "start_time": "2020-01-03T02:25:32.673225Z"
    }
   },
   "outputs": [],
   "source": [
    "y_train = texts_labels['binary_labels'].values[:train_cutoff]\n",
    "y_test = texts_labels['binary_labels'].values[train_cutoff:]"
   ]
  },
  {
   "cell_type": "markdown",
   "metadata": {},
   "source": [
    "__For all classes output__"
   ]
  },
  {
   "cell_type": "code",
   "execution_count": 67,
   "metadata": {
    "ExecuteTime": {
     "end_time": "2020-01-03T02:25:34.059495Z",
     "start_time": "2020-01-03T02:25:34.056547Z"
    }
   },
   "outputs": [],
   "source": [
    "from keras.utils.np_utils import to_categorical"
   ]
  },
  {
   "cell_type": "code",
   "execution_count": 68,
   "metadata": {
    "ExecuteTime": {
     "end_time": "2020-01-03T02:25:34.815962Z",
     "start_time": "2020-01-03T02:25:34.810840Z"
    }
   },
   "outputs": [],
   "source": [
    "y_train_all = to_categorical(train_data['labels'])\n",
    "y_test_all = to_categorical(test_data['labels'])"
   ]
  },
  {
   "cell_type": "markdown",
   "metadata": {
    "ExecuteTime": {
     "end_time": "2020-01-02T09:40:31.339881Z",
     "start_time": "2020-01-02T09:40:30.931021Z"
    }
   },
   "source": [
    "# Model - Binary Output"
   ]
  },
  {
   "cell_type": "code",
   "execution_count": 69,
   "metadata": {
    "ExecuteTime": {
     "end_time": "2020-01-03T02:25:37.986175Z",
     "start_time": "2020-01-03T02:25:37.983303Z"
    }
   },
   "outputs": [],
   "source": [
    "from keras.models import Sequential\n",
    "from keras.layers import Embedding, LSTM, Dense"
   ]
  },
  {
   "cell_type": "code",
   "execution_count": 70,
   "metadata": {
    "ExecuteTime": {
     "end_time": "2020-01-03T02:25:39.087524Z",
     "start_time": "2020-01-03T02:25:38.734342Z"
    }
   },
   "outputs": [],
   "source": [
    "model = Sequential()\n",
    "model.add(Embedding(10000, 32))\n",
    "model.add(LSTM(32))\n",
    "model.add(Dense(1, activation='sigmoid'))"
   ]
  },
  {
   "cell_type": "code",
   "execution_count": 71,
   "metadata": {
    "ExecuteTime": {
     "end_time": "2020-01-03T02:25:40.044465Z",
     "start_time": "2020-01-03T02:25:40.039930Z"
    }
   },
   "outputs": [
    {
     "name": "stdout",
     "output_type": "stream",
     "text": [
      "_________________________________________________________________\n",
      "Layer (type)                 Output Shape              Param #   \n",
      "=================================================================\n",
      "embedding_2 (Embedding)      (None, None, 32)          320000    \n",
      "_________________________________________________________________\n",
      "lstm_2 (LSTM)                (None, 32)                8320      \n",
      "_________________________________________________________________\n",
      "dense_2 (Dense)              (None, 1)                 33        \n",
      "=================================================================\n",
      "Total params: 328,353\n",
      "Trainable params: 328,353\n",
      "Non-trainable params: 0\n",
      "_________________________________________________________________\n"
     ]
    }
   ],
   "source": [
    "model.summary()"
   ]
  },
  {
   "cell_type": "code",
   "execution_count": 72,
   "metadata": {
    "ExecuteTime": {
     "end_time": "2020-01-03T02:25:41.297819Z",
     "start_time": "2020-01-03T02:25:41.256127Z"
    }
   },
   "outputs": [],
   "source": [
    "model.compile(optimizer='rmsprop', loss='binary_crossentropy', metrics=['acc'])"
   ]
  },
  {
   "cell_type": "code",
   "execution_count": 73,
   "metadata": {
    "ExecuteTime": {
     "end_time": "2020-01-03T02:27:11.716924Z",
     "start_time": "2020-01-03T02:25:49.188189Z"
    }
   },
   "outputs": [
    {
     "name": "stdout",
     "output_type": "stream",
     "text": [
      "Train on 35908 samples, validate on 8978 samples\n",
      "Epoch 1/10\n",
      "35908/35908 [==============================] - 8s 229us/step - loss: 0.4878 - acc: 0.7638 - val_loss: 0.4343 - val_acc: 0.7967\n",
      "Epoch 2/10\n",
      "35908/35908 [==============================] - 8s 216us/step - loss: 0.3862 - acc: 0.8254 - val_loss: 0.4204 - val_acc: 0.8060\n",
      "Epoch 3/10\n",
      "35908/35908 [==============================] - 8s 224us/step - loss: 0.3600 - acc: 0.8411 - val_loss: 0.4103 - val_acc: 0.8134\n",
      "Epoch 4/10\n",
      "35908/35908 [==============================] - 8s 227us/step - loss: 0.3436 - acc: 0.8478 - val_loss: 0.4100 - val_acc: 0.8134\n",
      "Epoch 5/10\n",
      "35908/35908 [==============================] - 8s 229us/step - loss: 0.3292 - acc: 0.8544 - val_loss: 0.4110 - val_acc: 0.8108\n",
      "Epoch 6/10\n",
      "35908/35908 [==============================] - 8s 227us/step - loss: 0.3163 - acc: 0.8599 - val_loss: 0.4174 - val_acc: 0.8158\n",
      "Epoch 7/10\n",
      "35908/35908 [==============================] - 8s 229us/step - loss: 0.3026 - acc: 0.8668 - val_loss: 0.4125 - val_acc: 0.8149\n",
      "Epoch 8/10\n",
      "35908/35908 [==============================] - 8s 229us/step - loss: 0.2903 - acc: 0.8738 - val_loss: 0.4461 - val_acc: 0.8123\n",
      "Epoch 9/10\n",
      "35908/35908 [==============================] - 8s 231us/step - loss: 0.2789 - acc: 0.8786 - val_loss: 0.4339 - val_acc: 0.8117\n",
      "Epoch 10/10\n",
      "35908/35908 [==============================] - 8s 235us/step - loss: 0.2662 - acc: 0.8859 - val_loss: 0.4357 - val_acc: 0.8168\n"
     ]
    }
   ],
   "source": [
    "history = model.fit(x_train, y_train, epochs=10, batch_size=128, validation_split=0.2)"
   ]
  },
  {
   "cell_type": "markdown",
   "metadata": {},
   "source": [
    "## Model Evaluation"
   ]
  },
  {
   "cell_type": "markdown",
   "metadata": {},
   "source": [
    "### Validation vs Train"
   ]
  },
  {
   "cell_type": "code",
   "execution_count": 75,
   "metadata": {
    "ExecuteTime": {
     "end_time": "2020-01-03T02:27:45.441186Z",
     "start_time": "2020-01-03T02:27:44.807241Z"
    }
   },
   "outputs": [
    {
     "data": {
      "image/png": "[encoded data removed]",
      "text/plain": [
       "<Figure size 1440x360 with 2 Axes>"
      ]
     },
     "metadata": {},
     "output_type": "display_data"
    }
   ],
   "source": [
    "plt.figure(figsize=(20,5))\n",
    "\n",
    "plt.subplot(121)\n",
    "plt.plot(range(10), history.history['val_acc'], 'bo', label='val accuracy', color='b')\n",
    "plt.plot(range(10), history.history['acc'], 'b', label='accuracy', color='r')\n",
    "plt.xticks(range(0,10), range(1,21))\n",
    "plt.legend()\n",
    "\n",
    "plt.subplot(122)\n",
    "plt.plot(range(10), history.history['val_loss'], 'bo', label='val loss', color='b')\n",
    "plt.plot(range(10), history.history['loss'], 'b', label='loss', color='r')\n",
    "plt.xticks(range(0,10), range(1,11))\n",
    "plt.legend()\n",
    "plt.show()"
   ]
  },
  {
   "cell_type": "code",
   "execution_count": 76,
   "metadata": {
    "ExecuteTime": {
     "end_time": "2020-01-03T02:28:01.103343Z",
     "start_time": "2020-01-03T02:27:59.871754Z"
    }
   },
   "outputs": [
    {
     "name": "stdout",
     "output_type": "stream",
     "text": [
      "11222/11222 [==============================] - 1s 109us/step\n",
      "Test loss: 0.41348731223008484\n",
      "Test accuracy: 0.8235608625488472\n"
     ]
    }
   ],
   "source": [
    "test_loss, test_acc = model.evaluate(x_test, y_test)\n",
    "print('Test loss: {}\\nTest accuracy: {}'.format(test_loss, test_acc))"
   ]
  },
  {
   "cell_type": "markdown",
   "metadata": {},
   "source": [
    "### Confusion Matrix & Precision and Recall"
   ]
  },
  {
   "cell_type": "code",
   "execution_count": 95,
   "metadata": {
    "ExecuteTime": {
     "end_time": "2020-01-03T08:19:59.141691Z",
     "start_time": "2020-01-03T08:19:59.138706Z"
    }
   },
   "outputs": [],
   "source": [
    "from sklearn.metrics import confusion_matrix, classification_report"
   ]
  },
  {
   "cell_type": "code",
   "execution_count": 78,
   "metadata": {
    "ExecuteTime": {
     "end_time": "2020-01-03T02:28:06.418698Z",
     "start_time": "2020-01-03T02:28:06.415848Z"
    }
   },
   "outputs": [],
   "source": [
    "import seaborn as sns"
   ]
  },
  {
   "cell_type": "code",
   "execution_count": 79,
   "metadata": {
    "ExecuteTime": {
     "end_time": "2020-01-03T02:28:08.071775Z",
     "start_time": "2020-01-03T02:28:06.813410Z"
    }
   },
   "outputs": [],
   "source": [
    "model_prediction = model.predict_classes(x_test)\n",
    "model_prediction = [j for i in model_prediction for j in i]"
   ]
  },
  {
   "cell_type": "code",
   "execution_count": 80,
   "metadata": {
    "ExecuteTime": {
     "end_time": "2020-01-03T02:28:09.056275Z",
     "start_time": "2020-01-03T02:28:09.038759Z"
    }
   },
   "outputs": [],
   "source": [
    "con_matrix = confusion_matrix(y_test, model_prediction)"
   ]
  },
  {
   "cell_type": "code",
   "execution_count": 92,
   "metadata": {
    "ExecuteTime": {
     "end_time": "2020-01-03T08:18:18.884261Z",
     "start_time": "2020-01-03T08:18:18.630718Z"
    }
   },
   "outputs": [
    {
     "data": {
      "image/png": "[encoded data removed]",
      "text/plain": [
       "<Figure size 504x360 with 2 Axes>"
      ]
     },
     "metadata": {},
     "output_type": "display_data"
    }
   ],
   "source": [
    "plt.figure(figsize=(7,5))\n",
    "sns.set(font_scale=1.4)\n",
    "sns.heatmap(con_matrix, annot=True, fmt=\"d\")\n",
    "plt.ylabel('True Label')\n",
    "plt.title('Prediction')\n",
    "plt.show()"
   ]
  },
  {
   "cell_type": "code",
   "execution_count": 99,
   "metadata": {
    "ExecuteTime": {
     "end_time": "2020-01-03T08:21:31.165565Z",
     "start_time": "2020-01-03T08:21:31.140717Z"
    }
   },
   "outputs": [
    {
     "name": "stdout",
     "output_type": "stream",
     "text": [
      "                  precision    recall  f1-score   support\n",
      "\n",
      "negative_reveiws       0.79      0.67      0.72      3898\n",
      "positive_reviews       0.84      0.91      0.87      7324\n",
      "\n",
      "        accuracy                           0.82     11222\n",
      "       macro avg       0.81      0.79      0.80     11222\n",
      "    weighted avg       0.82      0.82      0.82     11222\n",
      "\n"
     ]
    }
   ],
   "source": [
    "class_report = classification_report(y_test, model_prediction, target_names=['negative_reveiws', 'positive_reviews'])\n",
    "print(class_report)"
   ]
  },
  {
   "cell_type": "markdown",
   "metadata": {},
   "source": [
    "### ROC AUC"
   ]
  },
  {
   "cell_type": "code",
   "execution_count": 108,
   "metadata": {
    "ExecuteTime": {
     "end_time": "2020-01-03T10:27:14.795818Z",
     "start_time": "2020-01-03T10:27:14.792938Z"
    }
   },
   "outputs": [],
   "source": [
    "from sklearn.metrics import roc_curve, auc"
   ]
  },
  {
   "cell_type": "code",
   "execution_count": 104,
   "metadata": {
    "ExecuteTime": {
     "end_time": "2020-01-03T10:26:52.271372Z",
     "start_time": "2020-01-03T10:26:51.192454Z"
    }
   },
   "outputs": [],
   "source": [
    "fpr, tpr, thresholds = roc_curve(y_test, model.predict(x_test).ravel())"
   ]
  },
  {
   "cell_type": "code",
   "execution_count": 110,
   "metadata": {
    "ExecuteTime": {
     "end_time": "2020-01-03T10:32:52.848612Z",
     "start_time": "2020-01-03T10:32:52.845211Z"
    }
   },
   "outputs": [],
   "source": [
    "auc_ = auc(fpr, tpr)"
   ]
  },
  {
   "cell_type": "code",
   "execution_count": 126,
   "metadata": {
    "ExecuteTime": {
     "end_time": "2020-01-03T10:47:00.378777Z",
     "start_time": "2020-01-03T10:46:59.970004Z"
    }
   },
   "outputs": [
    {
     "data": {
      "image/png": "[encoded data removed]",
      "text/plain": [
       "<Figure size 720x360 with 1 Axes>"
      ]
     },
     "metadata": {},
     "output_type": "display_data"
    }
   ],
   "source": [
    "plt.figure(figsize=(10,5))\n",
    "plt.plot([0, 1], [0, 1], 'k--')\n",
    "plt.plot(fpr, tpr, label='AUC = {:.3f}'.format(auc_))\n",
    "plt.xlabel('False positive rate')\n",
    "plt.ylabel('True positive rate')\n",
    "plt.title('ROC curve')\n",
    "plt.legend(loc='best')\n",
    "plt.show()"
   ]
  },
  {
   "cell_type": "markdown",
   "metadata": {
    "ExecuteTime": {
     "end_time": "2020-01-02T11:55:17.806932Z",
     "start_time": "2020-01-02T11:55:17.804283Z"
    }
   },
   "source": [
    "## Prediction"
   ]
  },
  {
   "cell_type": "code",
   "execution_count": 113,
   "metadata": {
    "ExecuteTime": {
     "end_time": "2020-01-03T10:34:50.704033Z",
     "start_time": "2020-01-03T10:34:50.699615Z"
    }
   },
   "outputs": [],
   "source": [
    "def custom_prediction(sentence):\n",
    "    \"\"\" prediction with your own sentense\n",
    "    \"\"\"\n",
    "    sentence_seq = tokenizer.texts_to_sequences(np.array([sentence]))\n",
    "    seq_num = preprocessing.sequence.pad_sequences(sentence_seq, 20)\n",
    "    label = model.predict_classes(seq_num)[0][0]\n",
    "    return label"
   ]
  },
  {
   "cell_type": "code",
   "execution_count": 114,
   "metadata": {
    "ExecuteTime": {
     "end_time": "2020-01-03T10:34:51.231260Z",
     "start_time": "2020-01-03T10:34:51.216815Z"
    }
   },
   "outputs": [
    {
     "data": {
      "text/plain": [
       "1"
      ]
     },
     "execution_count": 114,
     "metadata": {},
     "output_type": "execute_result"
    }
   ],
   "source": [
    "sentence = 'the wait is so long but their food is awesome'\n",
    "custom_prediction(sentence)"
   ]
  }
 ],
 "metadata": {
  "kernelspec": {
   "display_name": "Python 3",
   "language": "python",
   "name": "python3"
  },
  "language_info": {
   "codemirror_mode": {
    "name": "ipython",
    "version": 3
   },
   "file_extension": ".py",
   "mimetype": "text/x-python",
   "name": "python",
   "nbconvert_exporter": "python",
   "pygments_lexer": "ipython3",
   "version": "3.7.2"
  },
  "toc": {
   "base_numbering": 1,
   "nav_menu": {},
   "number_sections": true,
   "sideBar": true,
   "skip_h1_title": false,
   "title_cell": "Table of Contents",
   "title_sidebar": "Contents",
   "toc_cell": false,
   "toc_position": {},
   "toc_section_display": true,
   "toc_window_display": false
  }
 },
 "nbformat": 4,
 "nbformat_minor": 2
}
