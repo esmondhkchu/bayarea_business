{
 "cells": [
  {
   "cell_type": "code",
   "execution_count": 1,
   "metadata": {
    "ExecuteTime": {
     "end_time": "2020-02-09T08:30:51.016720Z",
     "start_time": "2020-02-09T08:30:49.964985Z"
    }
   },
   "outputs": [],
   "source": [
    "import numpy as np\n",
    "import pandas as pd"
   ]
  },
  {
   "cell_type": "code",
   "execution_count": 49,
   "metadata": {
    "ExecuteTime": {
     "end_time": "2020-02-10T01:00:37.797166Z",
     "start_time": "2020-02-10T01:00:37.794075Z"
    }
   },
   "outputs": [],
   "source": [
    "import geopandas as gpd"
   ]
  },
  {
   "cell_type": "code",
   "execution_count": 2,
   "metadata": {
    "ExecuteTime": {
     "end_time": "2020-02-09T08:30:51.021914Z",
     "start_time": "2020-02-09T08:30:51.018945Z"
    }
   },
   "outputs": [],
   "source": [
    "import os"
   ]
  },
  {
   "cell_type": "code",
   "execution_count": 3,
   "metadata": {
    "ExecuteTime": {
     "end_time": "2020-02-09T08:30:51.518202Z",
     "start_time": "2020-02-09T08:30:51.025611Z"
    }
   },
   "outputs": [],
   "source": [
    "import matplotlib.pyplot as plt\n",
    "import seaborn as sns"
   ]
  },
  {
   "cell_type": "code",
   "execution_count": 4,
   "metadata": {
    "ExecuteTime": {
     "end_time": "2020-02-09T08:30:51.526204Z",
     "start_time": "2020-02-09T08:30:51.520850Z"
    }
   },
   "outputs": [],
   "source": [
    "import sys\n",
    "sys.path.insert(1, '../tools')\n",
    "from data_tools import *"
   ]
  },
  {
   "cell_type": "code",
   "execution_count": 50,
   "metadata": {
    "ExecuteTime": {
     "end_time": "2020-02-10T01:00:43.445128Z",
     "start_time": "2020-02-10T01:00:43.442019Z"
    }
   },
   "outputs": [],
   "source": [
    "import re"
   ]
  },
  {
   "cell_type": "markdown",
   "metadata": {},
   "source": [
    "# Business Info DataFrame"
   ]
  },
  {
   "cell_type": "code",
   "execution_count": 7,
   "metadata": {
    "ExecuteTime": {
     "end_time": "2020-02-09T08:30:57.198039Z",
     "start_time": "2020-02-09T08:30:56.981699Z"
    }
   },
   "outputs": [],
   "source": [
    "business_info = pd.read_csv('../data/all_businesses_info.csv')"
   ]
  },
  {
   "cell_type": "code",
   "execution_count": 59,
   "metadata": {
    "ExecuteTime": {
     "end_time": "2020-02-10T01:19:18.750428Z",
     "start_time": "2020-02-10T01:19:18.747449Z"
    }
   },
   "outputs": [],
   "source": [
    "in_str = ' SAN FRANCISCO  '"
   ]
  },
  {
   "cell_type": "code",
   "execution_count": 75,
   "metadata": {
    "ExecuteTime": {
     "end_time": "2020-02-10T01:25:32.744580Z",
     "start_time": "2020-02-10T01:25:32.740647Z"
    }
   },
   "outputs": [
    {
     "data": {
      "text/plain": [
       "'SAN FRANCISCO'"
      ]
     },
     "execution_count": 75,
     "metadata": {},
     "output_type": "execute_result"
    }
   ],
   "source": [
    "in_str.strip()"
   ]
  },
  {
   "cell_type": "code",
   "execution_count": 74,
   "metadata": {
    "ExecuteTime": {
     "end_time": "2020-02-10T01:25:26.896986Z",
     "start_time": "2020-02-10T01:25:26.891897Z"
    }
   },
   "outputs": [
    {
     "data": {
      "text/plain": [
       "'SAN FRANCISCO'"
      ]
     },
     "execution_count": 74,
     "metadata": {},
     "output_type": "execute_result"
    }
   ],
   "source": [
    "re.sub(r'^\\s+|\\s+$', '', in_str)"
   ]
  },
  {
   "cell_type": "code",
   "execution_count": null,
   "metadata": {},
   "outputs": [],
   "source": []
  },
  {
   "cell_type": "code",
   "execution_count": 8,
   "metadata": {
    "ExecuteTime": {
     "end_time": "2020-02-09T08:30:57.386005Z",
     "start_time": "2020-02-09T08:30:57.354696Z"
    }
   },
   "outputs": [
    {
     "data": {
      "text/html": [
       "<div>\n",
       "<style scoped>\n",
       "    .dataframe tbody tr th:only-of-type {\n",
       "        vertical-align: middle;\n",
       "    }\n",
       "\n",
       "    .dataframe tbody tr th {\n",
       "        vertical-align: top;\n",
       "    }\n",
       "\n",
       "    .dataframe thead th {\n",
       "        text-align: right;\n",
       "    }\n",
       "</style>\n",
       "<table border=\"1\" class=\"dataframe\">\n",
       "  <thead>\n",
       "    <tr style=\"text-align: right;\">\n",
       "      <th></th>\n",
       "      <th>id</th>\n",
       "      <th>alias</th>\n",
       "      <th>name</th>\n",
       "      <th>image_url</th>\n",
       "      <th>is_closed</th>\n",
       "      <th>url</th>\n",
       "      <th>review_count</th>\n",
       "      <th>rating</th>\n",
       "      <th>price</th>\n",
       "      <th>phone</th>\n",
       "      <th>...</th>\n",
       "      <th>transactions2</th>\n",
       "      <th>transactions3</th>\n",
       "      <th>address1</th>\n",
       "      <th>address2</th>\n",
       "      <th>address3</th>\n",
       "      <th>city</th>\n",
       "      <th>zip_code</th>\n",
       "      <th>country</th>\n",
       "      <th>state</th>\n",
       "      <th>display_address</th>\n",
       "    </tr>\n",
       "  </thead>\n",
       "  <tbody>\n",
       "    <tr>\n",
       "      <td>0</td>\n",
       "      <td>ucXuxH-JOwyL_hi0uzXjVw</td>\n",
       "      <td>lovina-calistoga</td>\n",
       "      <td>Lovina</td>\n",
       "      <td>https://s3-media1.fl.yelpcdn.com/bphoto/fiMg4W...</td>\n",
       "      <td>False</td>\n",
       "      <td>https://www.yelp.com/biz/lovina-calistoga?adju...</td>\n",
       "      <td>327</td>\n",
       "      <td>4.0</td>\n",
       "      <td>$$</td>\n",
       "      <td>1.707943e+10</td>\n",
       "      <td>...</td>\n",
       "      <td>NaN</td>\n",
       "      <td>NaN</td>\n",
       "      <td>1107 Cedar St</td>\n",
       "      <td>NaN</td>\n",
       "      <td>NaN</td>\n",
       "      <td>Calistoga</td>\n",
       "      <td>94515.0</td>\n",
       "      <td>US</td>\n",
       "      <td>CA</td>\n",
       "      <td>1107 Cedar St, Calistoga, CA 94515</td>\n",
       "    </tr>\n",
       "    <tr>\n",
       "      <td>1</td>\n",
       "      <td>U69SHL0P_DGbjaB8TNIwLg</td>\n",
       "      <td>sams-social-club-calistoga-2</td>\n",
       "      <td>Sam's Social Club</td>\n",
       "      <td>https://s3-media1.fl.yelpcdn.com/bphoto/uzjx9K...</td>\n",
       "      <td>False</td>\n",
       "      <td>https://www.yelp.com/biz/sams-social-club-cali...</td>\n",
       "      <td>640</td>\n",
       "      <td>4.0</td>\n",
       "      <td>$$</td>\n",
       "      <td>1.707942e+10</td>\n",
       "      <td>...</td>\n",
       "      <td>NaN</td>\n",
       "      <td>NaN</td>\n",
       "      <td>1712 Lincoln Ave</td>\n",
       "      <td>NaN</td>\n",
       "      <td>NaN</td>\n",
       "      <td>Calistoga</td>\n",
       "      <td>94515.0</td>\n",
       "      <td>US</td>\n",
       "      <td>CA</td>\n",
       "      <td>1712 Lincoln Ave, Calistoga, CA 94515</td>\n",
       "    </tr>\n",
       "    <tr>\n",
       "      <td>2</td>\n",
       "      <td>XITkuNFTKXeDKotFD9dPxA</td>\n",
       "      <td>solbar-calistoga</td>\n",
       "      <td>SolBar</td>\n",
       "      <td>https://s3-media1.fl.yelpcdn.com/bphoto/_5YbbL...</td>\n",
       "      <td>False</td>\n",
       "      <td>https://www.yelp.com/biz/solbar-calistoga?adju...</td>\n",
       "      <td>1047</td>\n",
       "      <td>4.0</td>\n",
       "      <td>$$$</td>\n",
       "      <td>1.707226e+10</td>\n",
       "      <td>...</td>\n",
       "      <td>NaN</td>\n",
       "      <td>NaN</td>\n",
       "      <td>755 Silverado Trl</td>\n",
       "      <td>NaN</td>\n",
       "      <td>Solage Hotel</td>\n",
       "      <td>Calistoga</td>\n",
       "      <td>94515.0</td>\n",
       "      <td>US</td>\n",
       "      <td>CA</td>\n",
       "      <td>755 Silverado Trl, Solage Hotel, Calistoga, CA...</td>\n",
       "    </tr>\n",
       "    <tr>\n",
       "      <td>3</td>\n",
       "      <td>41jZtOex0ITMwM353GYUFw</td>\n",
       "      <td>evangeline-calistoga</td>\n",
       "      <td>Evangeline</td>\n",
       "      <td>https://s3-media1.fl.yelpcdn.com/bphoto/fkquwF...</td>\n",
       "      <td>False</td>\n",
       "      <td>https://www.yelp.com/biz/evangeline-calistoga?...</td>\n",
       "      <td>375</td>\n",
       "      <td>4.0</td>\n",
       "      <td>$$</td>\n",
       "      <td>1.707341e+10</td>\n",
       "      <td>...</td>\n",
       "      <td>NaN</td>\n",
       "      <td>NaN</td>\n",
       "      <td>1226 Washington St</td>\n",
       "      <td>NaN</td>\n",
       "      <td>NaN</td>\n",
       "      <td>Calistoga</td>\n",
       "      <td>94515.0</td>\n",
       "      <td>US</td>\n",
       "      <td>CA</td>\n",
       "      <td>1226 Washington St, Calistoga, CA 94515</td>\n",
       "    </tr>\n",
       "    <tr>\n",
       "      <td>4</td>\n",
       "      <td>yPLq0SrnSnkTH1jQfgVMTA</td>\n",
       "      <td>calistoga-inn-calistoga-7</td>\n",
       "      <td>Calistoga Inn</td>\n",
       "      <td>https://s3-media1.fl.yelpcdn.com/bphoto/BRpXx4...</td>\n",
       "      <td>False</td>\n",
       "      <td>https://www.yelp.com/biz/calistoga-inn-calisto...</td>\n",
       "      <td>611</td>\n",
       "      <td>4.0</td>\n",
       "      <td>$$</td>\n",
       "      <td>1.707942e+10</td>\n",
       "      <td>...</td>\n",
       "      <td>NaN</td>\n",
       "      <td>NaN</td>\n",
       "      <td>1250 Lincoln Ave</td>\n",
       "      <td>NaN</td>\n",
       "      <td>NaN</td>\n",
       "      <td>Calistoga</td>\n",
       "      <td>94515.0</td>\n",
       "      <td>US</td>\n",
       "      <td>CA</td>\n",
       "      <td>1250 Lincoln Ave, Calistoga, CA 94515</td>\n",
       "    </tr>\n",
       "  </tbody>\n",
       "</table>\n",
       "<p>5 rows × 33 columns</p>\n",
       "</div>"
      ],
      "text/plain": [
       "                       id                         alias               name  \\\n",
       "0  ucXuxH-JOwyL_hi0uzXjVw              lovina-calistoga             Lovina   \n",
       "1  U69SHL0P_DGbjaB8TNIwLg  sams-social-club-calistoga-2  Sam's Social Club   \n",
       "2  XITkuNFTKXeDKotFD9dPxA              solbar-calistoga             SolBar   \n",
       "3  41jZtOex0ITMwM353GYUFw          evangeline-calistoga         Evangeline   \n",
       "4  yPLq0SrnSnkTH1jQfgVMTA     calistoga-inn-calistoga-7      Calistoga Inn   \n",
       "\n",
       "                                           image_url  is_closed  \\\n",
       "0  https://s3-media1.fl.yelpcdn.com/bphoto/fiMg4W...      False   \n",
       "1  https://s3-media1.fl.yelpcdn.com/bphoto/uzjx9K...      False   \n",
       "2  https://s3-media1.fl.yelpcdn.com/bphoto/_5YbbL...      False   \n",
       "3  https://s3-media1.fl.yelpcdn.com/bphoto/fkquwF...      False   \n",
       "4  https://s3-media1.fl.yelpcdn.com/bphoto/BRpXx4...      False   \n",
       "\n",
       "                                                 url  review_count  rating  \\\n",
       "0  https://www.yelp.com/biz/lovina-calistoga?adju...           327     4.0   \n",
       "1  https://www.yelp.com/biz/sams-social-club-cali...           640     4.0   \n",
       "2  https://www.yelp.com/biz/solbar-calistoga?adju...          1047     4.0   \n",
       "3  https://www.yelp.com/biz/evangeline-calistoga?...           375     4.0   \n",
       "4  https://www.yelp.com/biz/calistoga-inn-calisto...           611     4.0   \n",
       "\n",
       "  price         phone  ... transactions2  transactions3            address1  \\\n",
       "0    $$  1.707943e+10  ...           NaN            NaN       1107 Cedar St   \n",
       "1    $$  1.707942e+10  ...           NaN            NaN    1712 Lincoln Ave   \n",
       "2   $$$  1.707226e+10  ...           NaN            NaN   755 Silverado Trl   \n",
       "3    $$  1.707341e+10  ...           NaN            NaN  1226 Washington St   \n",
       "4    $$  1.707942e+10  ...           NaN            NaN    1250 Lincoln Ave   \n",
       "\n",
       "   address2      address3       city zip_code country state  \\\n",
       "0       NaN           NaN  Calistoga  94515.0      US    CA   \n",
       "1       NaN           NaN  Calistoga  94515.0      US    CA   \n",
       "2       NaN  Solage Hotel  Calistoga  94515.0      US    CA   \n",
       "3       NaN           NaN  Calistoga  94515.0      US    CA   \n",
       "4       NaN           NaN  Calistoga  94515.0      US    CA   \n",
       "\n",
       "                                     display_address  \n",
       "0                 1107 Cedar St, Calistoga, CA 94515  \n",
       "1              1712 Lincoln Ave, Calistoga, CA 94515  \n",
       "2  755 Silverado Trl, Solage Hotel, Calistoga, CA...  \n",
       "3            1226 Washington St, Calistoga, CA 94515  \n",
       "4              1250 Lincoln Ave, Calistoga, CA 94515  \n",
       "\n",
       "[5 rows x 33 columns]"
      ]
     },
     "execution_count": 8,
     "metadata": {},
     "output_type": "execute_result"
    }
   ],
   "source": [
    "business_info['city'] = business_info"
   ]
  },
  {
   "cell_type": "code",
   "execution_count": 54,
   "metadata": {
    "ExecuteTime": {
     "end_time": "2020-02-10T01:06:41.849118Z",
     "start_time": "2020-02-10T01:06:41.846374Z"
    }
   },
   "outputs": [],
   "source": [
    "in_str = 'SAN FRANCISCO'"
   ]
  },
  {
   "cell_type": "code",
   "execution_count": 55,
   "metadata": {
    "ExecuteTime": {
     "end_time": "2020-02-10T01:06:42.217517Z",
     "start_time": "2020-02-10T01:06:42.213782Z"
    }
   },
   "outputs": [
    {
     "data": {
      "text/plain": [
       "'San francisco'"
      ]
     },
     "execution_count": 55,
     "metadata": {},
     "output_type": "execute_result"
    }
   ],
   "source": [
    "in_str.capitalize()"
   ]
  },
  {
   "cell_type": "code",
   "execution_count": 9,
   "metadata": {
    "ExecuteTime": {
     "end_time": "2020-02-09T08:30:59.411451Z",
     "start_time": "2020-02-09T08:30:59.402252Z"
    }
   },
   "outputs": [
    {
     "data": {
      "text/html": [
       "<div>\n",
       "<style scoped>\n",
       "    .dataframe tbody tr th:only-of-type {\n",
       "        vertical-align: middle;\n",
       "    }\n",
       "\n",
       "    .dataframe tbody tr th {\n",
       "        vertical-align: top;\n",
       "    }\n",
       "\n",
       "    .dataframe thead th {\n",
       "        text-align: right;\n",
       "    }\n",
       "</style>\n",
       "<table border=\"1\" class=\"dataframe\">\n",
       "  <thead>\n",
       "    <tr style=\"text-align: right;\">\n",
       "      <th></th>\n",
       "      <th>latitude</th>\n",
       "      <th>longitude</th>\n",
       "    </tr>\n",
       "  </thead>\n",
       "  <tbody>\n",
       "    <tr>\n",
       "      <td>0</td>\n",
       "      <td>38.576590</td>\n",
       "      <td>-122.579640</td>\n",
       "    </tr>\n",
       "    <tr>\n",
       "      <td>1</td>\n",
       "      <td>38.582206</td>\n",
       "      <td>-122.575248</td>\n",
       "    </tr>\n",
       "    <tr>\n",
       "      <td>2</td>\n",
       "      <td>38.585059</td>\n",
       "      <td>-122.570257</td>\n",
       "    </tr>\n",
       "    <tr>\n",
       "      <td>3</td>\n",
       "      <td>38.579050</td>\n",
       "      <td>-122.579480</td>\n",
       "    </tr>\n",
       "    <tr>\n",
       "      <td>4</td>\n",
       "      <td>38.576928</td>\n",
       "      <td>-122.579623</td>\n",
       "    </tr>\n",
       "  </tbody>\n",
       "</table>\n",
       "</div>"
      ],
      "text/plain": [
       "    latitude   longitude\n",
       "0  38.576590 -122.579640\n",
       "1  38.582206 -122.575248\n",
       "2  38.585059 -122.570257\n",
       "3  38.579050 -122.579480\n",
       "4  38.576928 -122.579623"
      ]
     },
     "execution_count": 9,
     "metadata": {},
     "output_type": "execute_result"
    }
   ],
   "source": [
    "business_info[['latitude', 'longitude']].head()"
   ]
  },
  {
   "cell_type": "code",
   "execution_count": 23,
   "metadata": {
    "ExecuteTime": {
     "end_time": "2020-02-09T08:36:17.566609Z",
     "start_time": "2020-02-09T08:36:17.339227Z"
    }
   },
   "outputs": [],
   "source": [
    "geo_xy = gpd.points_from_xy(business_info.longitude, business_info.longitude)\n",
    "geo_business_info = gpd.GeoDataFrame(business_info, geometry=geo_xy)"
   ]
  },
  {
   "cell_type": "code",
   "execution_count": 44,
   "metadata": {
    "ExecuteTime": {
     "end_time": "2020-02-10T00:58:10.756788Z",
     "start_time": "2020-02-10T00:58:10.734563Z"
    }
   },
   "outputs": [],
   "source": [
    "val, count = np.unique(geo_business_info.city.values, return_counts=True)"
   ]
  },
  {
   "cell_type": "code",
   "execution_count": 46,
   "metadata": {
    "ExecuteTime": {
     "end_time": "2020-02-10T00:58:19.268382Z",
     "start_time": "2020-02-10T00:58:19.262225Z"
    }
   },
   "outputs": [
    {
     "data": {
      "text/plain": [
       "array(['ALAMEDA', 'Alameda', 'Albany', 'Alum Rock', 'American Canyon',\n",
       "       'Antioch', 'Ashland', 'Bay Area', 'Belmont', 'Belvedere Tiburon',\n",
       "       'Benicia', 'Berkeley', 'Brentwood', 'Brentwood Ca', 'Brisbane',\n",
       "       'Burlingame', 'CA', 'Calistoga', 'Campbell', 'Castro Valley',\n",
       "       'Clayton', 'Cloverdale', 'Colma', 'Concord', 'Corte Madera',\n",
       "       'Cotati', 'Cupertino', 'Daly City', 'Danville', 'Dixon', 'Dublin',\n",
       "       'East Palo Alto', 'El Cerrito', 'El Sobrante', 'Elk Grove',\n",
       "       'Emeryville', 'Fairfax', 'Fairfield', 'Fairfield Ca',\n",
       "       'Foster City', 'Fremont', 'Gilroy', 'Gilroy Ca', 'Greenbrae',\n",
       "       'Hacienda Heights', 'Half Moon Bay', 'Hayward', 'Healdsburg',\n",
       "       'Hercules', 'Hillsborough', 'Ignacio', 'Kensington', 'Kentfield',\n",
       "       'Knob Noster MO', 'Lafayette', 'Larkspur', 'Las Vegas',\n",
       "       'Livermore', 'Los Altos', 'Los Atlos', 'Los Gatos', 'Martinez',\n",
       "       'Menlo Park', 'Mill Valley', 'Millbrae', 'Milpitas',\n",
       "       'Moffett Field', 'Moraga', 'Morgan Hill', 'Mountain View', 'Napa',\n",
       "       'Newark', 'Niles', 'Novato', 'OAKLAND', 'Oakland', 'Oakley',\n",
       "       'Orinda', 'PITTSBURG', 'Pacheco', 'Pacifica', 'Palo Alto',\n",
       "       'Petaluma', 'Piedmont', 'Pinole', 'Pittsburg', 'Pleasant Hill',\n",
       "       'Pleasanton', 'Pleasonton', 'Point Richmond', 'Port Costa',\n",
       "       'Portola Valley', 'Redwood', 'Redwood City', 'Redwood Shores',\n",
       "       'Richmond', 'Rio Vista', 'Rodeo', 'Rohnert Park', 'Ross',\n",
       "       'S. San Francisco', 'SANTA ROSA', 'Sacramento', 'Saint Helena',\n",
       "       'San  Leandro', 'San Anselmo', 'San Bruno', 'San Carlos',\n",
       "       'San Francisco', 'San Jose', 'San José', 'San Leandro',\n",
       "       'San Lorenzo', 'San Mateo', 'San Pablo', 'San Rafael', 'San Ramon',\n",
       "       'San jose', 'Santa Clara', 'Santa Cruz', 'Santa Rosa',\n",
       "       'Santa clara', 'Saratoga', 'Sausalito', 'Sebastopol', 'Sonoma',\n",
       "       'South San Francisco', 'St Helena', 'St. Helena', 'Stanford',\n",
       "       'Stockton', 'Suisun City', 'Sunnyvale', 'Sunrise', 'Tiburon',\n",
       "       'Tracy', 'Ukiah', 'Union City', 'Vacaville', 'Vacaville Ca',\n",
       "       'Vallejo', 'Walnut Creek', 'West Menlo Park', 'Windsor',\n",
       "       'Woodside', 'Yountville', 'cupertino'], dtype=object)"
      ]
     },
     "execution_count": 46,
     "metadata": {},
     "output_type": "execute_result"
    }
   ],
   "source": [
    "val"
   ]
  },
  {
   "cell_type": "code",
   "execution_count": 45,
   "metadata": {
    "ExecuteTime": {
     "end_time": "2020-02-10T00:58:12.279681Z",
     "start_time": "2020-02-10T00:58:12.275010Z"
    }
   },
   "outputs": [
    {
     "data": {
      "text/plain": [
       "array([   1,  364,  131,   23,   27,  164,    2,    2,  137,    4,   46,\n",
       "        619,  131,    2,   16,  251,    2,   24,  141,   78,    8,   18,\n",
       "         32,  423,   37,   61,  155,  228,   66,   20,  248,   46,  143,\n",
       "         31,    2,  113,   26,  183,    2,   43,  736,  131,    1,    9,\n",
       "          2,   56,  459,   52,   27,    2,    1,    3,    1,   19,   50,\n",
       "         14,   11,  186,  109,    2,  159,   86,  174,   35,   90,  283,\n",
       "          1,   26,  107,  330,  275,  383,    1,  111,   19, 1241,   29,\n",
       "         27,    1,    7,   58,  401,  150,    5,   74,  124,  172,  290,\n",
       "          2,    1,    1,    9,    1,  350,    3,  203,   17,    3,  110,\n",
       "          6,    1,    1,  115,   23,    1,   26,  202,  205, 1448, 1541,\n",
       "         33,  307,   43,  403,  143,  205,  164,    3,  537,   43,  376,\n",
       "          9,   37,   30,   47,   58,   79,    1,   17,   45,  131,   78,\n",
       "        517,    2,   19,   35,    5,  205,  193,    1,  249,  275,    2,\n",
       "         52,    7,   22,    1])"
      ]
     },
     "execution_count": 45,
     "metadata": {},
     "output_type": "execute_result"
    }
   ],
   "source": [
    "count"
   ]
  },
  {
   "cell_type": "code",
   "execution_count": null,
   "metadata": {},
   "outputs": [],
   "source": []
  }
 ],
 "metadata": {
  "kernelspec": {
   "display_name": "Python 3",
   "language": "python",
   "name": "python3"
  },
  "language_info": {
   "codemirror_mode": {
    "name": "ipython",
    "version": 3
   },
   "file_extension": ".py",
   "mimetype": "text/x-python",
   "name": "python",
   "nbconvert_exporter": "python",
   "pygments_lexer": "ipython3",
   "version": "3.7.2"
  },
  "toc": {
   "base_numbering": 1,
   "nav_menu": {},
   "number_sections": true,
   "sideBar": true,
   "skip_h1_title": false,
   "title_cell": "Table of Contents",
   "title_sidebar": "Contents",
   "toc_cell": false,
   "toc_position": {},
   "toc_section_display": true,
   "toc_window_display": false
  }
 },
 "nbformat": 4,
 "nbformat_minor": 2
}
